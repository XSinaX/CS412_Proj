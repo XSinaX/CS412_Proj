{
 "cells": [
  {
   "cell_type": "code",
   "execution_count": 1,
   "metadata": {},
   "outputs": [
    {
     "name": "stderr",
     "output_type": "stream",
     "text": [
      "[nltk_data] Downloading package stopwords to\n",
      "[nltk_data]     C:\\Users\\Sina\\AppData\\Roaming\\nltk_data...\n",
      "[nltk_data]   Package stopwords is already up-to-date!\n"
     ]
    }
   ],
   "source": [
    "import numpy as np\n",
    "import pandas as pd\n",
    "import gzip\n",
    "import json\n",
    "import nltk\n",
    "from nltk.corpus import stopwords\n",
    "\n",
    "nltk.download('stopwords')\n",
    "turkish_stopwords = stopwords.words('turkish')"
   ]
  },
  {
   "cell_type": "code",
   "execution_count": 2,
   "metadata": {},
   "outputs": [],
   "source": [
    "train_classification_df = pd.read_csv(\"released_dataset/train-classification.csv\",)\n",
    "train_classification_df = train_classification_df.rename(columns={'Unnamed: 0': 'user_id', 'label': 'category'})\n",
    "\n",
    "# Unifying labels\n",
    "train_classification_df[\"category\"] = train_classification_df[\"category\"].apply(str.lower)\n",
    "username2_category = train_classification_df.set_index(\"user_id\").to_dict()[\"category\"]"
   ]
  },
  {
   "cell_type": "code",
   "execution_count": 3,
   "metadata": {},
   "outputs": [
    {
     "data": {
      "text/html": [
       "<div>\n",
       "<style scoped>\n",
       "    .dataframe tbody tr th:only-of-type {\n",
       "        vertical-align: middle;\n",
       "    }\n",
       "\n",
       "    .dataframe tbody tr th {\n",
       "        vertical-align: top;\n",
       "    }\n",
       "\n",
       "    .dataframe thead th {\n",
       "        text-align: right;\n",
       "    }\n",
       "</style>\n",
       "<table border=\"1\" class=\"dataframe\">\n",
       "  <thead>\n",
       "    <tr style=\"text-align: right;\">\n",
       "      <th></th>\n",
       "      <th>user_id</th>\n",
       "    </tr>\n",
       "    <tr>\n",
       "      <th>category</th>\n",
       "      <th></th>\n",
       "    </tr>\n",
       "  </thead>\n",
       "  <tbody>\n",
       "    <tr>\n",
       "      <th>art</th>\n",
       "      <td>191</td>\n",
       "    </tr>\n",
       "    <tr>\n",
       "      <th>entertainment</th>\n",
       "      <td>323</td>\n",
       "    </tr>\n",
       "    <tr>\n",
       "      <th>fashion</th>\n",
       "      <td>299</td>\n",
       "    </tr>\n",
       "    <tr>\n",
       "      <th>food</th>\n",
       "      <td>511</td>\n",
       "    </tr>\n",
       "    <tr>\n",
       "      <th>gaming</th>\n",
       "      <td>13</td>\n",
       "    </tr>\n",
       "    <tr>\n",
       "      <th>health and lifestyle</th>\n",
       "      <td>503</td>\n",
       "    </tr>\n",
       "    <tr>\n",
       "      <th>mom and children</th>\n",
       "      <td>149</td>\n",
       "    </tr>\n",
       "    <tr>\n",
       "      <th>sports</th>\n",
       "      <td>113</td>\n",
       "    </tr>\n",
       "    <tr>\n",
       "      <th>tech</th>\n",
       "      <td>346</td>\n",
       "    </tr>\n",
       "    <tr>\n",
       "      <th>travel</th>\n",
       "      <td>294</td>\n",
       "    </tr>\n",
       "  </tbody>\n",
       "</table>\n",
       "</div>"
      ],
      "text/plain": [
       "                      user_id\n",
       "category                     \n",
       "art                       191\n",
       "entertainment             323\n",
       "fashion                   299\n",
       "food                      511\n",
       "gaming                     13\n",
       "health and lifestyle      503\n",
       "mom and children          149\n",
       "sports                    113\n",
       "tech                      346\n",
       "travel                    294"
      ]
     },
     "execution_count": 3,
     "metadata": {},
     "output_type": "execute_result"
    }
   ],
   "source": [
    "# stats about the labels\n",
    "train_classification_df.groupby(\"category\").count()"
   ]
  },
  {
   "cell_type": "code",
   "execution_count": 4,
   "metadata": {},
   "outputs": [],
   "source": [
    "train_data_path = \"released_dataset/training-dataset.jsonl.gz\"\n",
    "\n",
    "username2posts_train = dict()\n",
    "username2profile_train = dict()\n",
    "\n",
    "username2posts_test = dict()\n",
    "username2profile_test = dict()\n",
    "\n",
    "\n",
    "with gzip.open(train_data_path, \"rt\") as fh:\n",
    "  for line in fh:\n",
    "    sample = json.loads(line)\n",
    "\n",
    "    profile = sample[\"profile\"]\n",
    "    username = profile[\"username\"]\n",
    "    if username in username2_category:\n",
    "      # train data info\n",
    "      username2posts_train[username] = sample[\"posts\"]\n",
    "      username2profile_train[username] = profile\n",
    "\n",
    "\n",
    "    else:\n",
    "      # it is test data info\n",
    "      username2posts_test[username] = sample[\"posts\"]\n",
    "      username2profile_test[username] = profile\n"
   ]
  },
  {
   "cell_type": "code",
   "execution_count": 5,
   "metadata": {},
   "outputs": [
    {
     "data": {
      "text/html": [
       "<div>\n",
       "<style scoped>\n",
       "    .dataframe tbody tr th:only-of-type {\n",
       "        vertical-align: middle;\n",
       "    }\n",
       "\n",
       "    .dataframe tbody tr th {\n",
       "        vertical-align: top;\n",
       "    }\n",
       "\n",
       "    .dataframe thead th {\n",
       "        text-align: right;\n",
       "    }\n",
       "</style>\n",
       "<table border=\"1\" class=\"dataframe\">\n",
       "  <thead>\n",
       "    <tr style=\"text-align: right;\">\n",
       "      <th></th>\n",
       "      <th>username</th>\n",
       "      <th>id</th>\n",
       "      <th>full_name</th>\n",
       "      <th>biography</th>\n",
       "      <th>category_name</th>\n",
       "      <th>post_count</th>\n",
       "      <th>follower_count</th>\n",
       "      <th>following_count</th>\n",
       "      <th>is_business_account</th>\n",
       "      <th>is_private</th>\n",
       "      <th>...</th>\n",
       "      <th>business_category_name</th>\n",
       "      <th>overall_category_name</th>\n",
       "      <th>category_enum</th>\n",
       "      <th>is_verified_by_mv4b</th>\n",
       "      <th>is_regulated_c18</th>\n",
       "      <th>profile_pic_url</th>\n",
       "      <th>should_show_category</th>\n",
       "      <th>should_show_public_contacts</th>\n",
       "      <th>show_account_transparency_details</th>\n",
       "      <th>profile_picture_base64</th>\n",
       "    </tr>\n",
       "  </thead>\n",
       "  <tbody>\n",
       "    <tr>\n",
       "      <th>0</th>\n",
       "      <td>deparmedya</td>\n",
       "      <td>3170700063</td>\n",
       "      <td>Depar Medya</td>\n",
       "      <td>#mediaplanning #mediabuying #sosyalmedya</td>\n",
       "      <td>Local business</td>\n",
       "      <td>None</td>\n",
       "      <td>1167</td>\n",
       "      <td>192</td>\n",
       "      <td>True</td>\n",
       "      <td>False</td>\n",
       "      <td>...</td>\n",
       "      <td>None</td>\n",
       "      <td>None</td>\n",
       "      <td>LOCAL</td>\n",
       "      <td>False</td>\n",
       "      <td>False</td>\n",
       "      <td>https://instagram.fsaw2-3.fna.fbcdn.net/v/t51....</td>\n",
       "      <td>True</td>\n",
       "      <td>True</td>\n",
       "      <td>True</td>\n",
       "      <td>/9j/4AAQSkZJRgABAQAAAQABAAD/2wBDAAgGBgcGBQgHBw...</td>\n",
       "    </tr>\n",
       "    <tr>\n",
       "      <th>1</th>\n",
       "      <td>kafesfirin</td>\n",
       "      <td>266439571</td>\n",
       "      <td>KAFES FIRIN</td>\n",
       "      <td>📍Söğütözü📍FTZ AVM\\n🛒Ankara macro▲center v...</td>\n",
       "      <td>Brand</td>\n",
       "      <td>None</td>\n",
       "      <td>11997</td>\n",
       "      <td>17</td>\n",
       "      <td>True</td>\n",
       "      <td>False</td>\n",
       "      <td>...</td>\n",
       "      <td>None</td>\n",
       "      <td>None</td>\n",
       "      <td>BRAND</td>\n",
       "      <td>False</td>\n",
       "      <td>False</td>\n",
       "      <td>https://instagram.fada1-13.fna.fbcdn.net/v/t51...</td>\n",
       "      <td>True</td>\n",
       "      <td>True</td>\n",
       "      <td>True</td>\n",
       "      <td>/9j/4AAQSkZJRgABAQAAAQABAAD/2wBDAAgGBgcGBQgHBw...</td>\n",
       "    </tr>\n",
       "  </tbody>\n",
       "</table>\n",
       "<p>2 rows × 44 columns</p>\n",
       "</div>"
      ],
      "text/plain": [
       "     username          id    full_name  \\\n",
       "0  deparmedya  3170700063  Depar Medya   \n",
       "1  kafesfirin   266439571  KAFES FIRIN   \n",
       "\n",
       "                                           biography   category_name  \\\n",
       "0           #mediaplanning #mediabuying #sosyalmedya  Local business   \n",
       "1  📍Söğütözü📍FTZ AVM\\n🛒Ankara macro▲center v...           Brand   \n",
       "\n",
       "  post_count follower_count following_count is_business_account is_private  \\\n",
       "0       None           1167             192                True      False   \n",
       "1       None          11997              17                True      False   \n",
       "\n",
       "   ... business_category_name overall_category_name category_enum  \\\n",
       "0  ...                   None                  None         LOCAL   \n",
       "1  ...                   None                  None         BRAND   \n",
       "\n",
       "  is_verified_by_mv4b is_regulated_c18  \\\n",
       "0               False            False   \n",
       "1               False            False   \n",
       "\n",
       "                                     profile_pic_url should_show_category  \\\n",
       "0  https://instagram.fsaw2-3.fna.fbcdn.net/v/t51....                 True   \n",
       "1  https://instagram.fada1-13.fna.fbcdn.net/v/t51...                 True   \n",
       "\n",
       "  should_show_public_contacts show_account_transparency_details  \\\n",
       "0                        True                              True   \n",
       "1                        True                              True   \n",
       "\n",
       "                              profile_picture_base64  \n",
       "0  /9j/4AAQSkZJRgABAQAAAQABAAD/2wBDAAgGBgcGBQgHBw...  \n",
       "1  /9j/4AAQSkZJRgABAQAAAQABAAD/2wBDAAgGBgcGBQgHBw...  \n",
       "\n",
       "[2 rows x 44 columns]"
      ]
     },
     "execution_count": 5,
     "metadata": {},
     "output_type": "execute_result"
    }
   ],
   "source": [
    "# Profile Dataframe\n",
    "train_profile_df = pd.DataFrame(username2profile_train).T.reset_index(drop=True)\n",
    "test_profile_df = pd.DataFrame(username2profile_test).T.reset_index(drop=True)\n",
    "\n",
    "train_profile_df.head(2)"
   ]
  },
  {
   "cell_type": "code",
   "execution_count": 6,
   "metadata": {},
   "outputs": [],
   "source": [
    "from sklearn.feature_extraction.text import TfidfVectorizer\n",
    "import re\n",
    "\n",
    "def preprocess_text(text: str):\n",
    "    # lower casing Turkish Text\n",
    "    text = text.casefold()\n",
    "\n",
    "    # Remove URLs\n",
    "    text = re.sub(r'http\\S+|www\\S+|https\\S+', '', text, flags=re.MULTILINE)\n",
    "\n",
    "    # Remove special characters and punctuation\n",
    "    text = re.sub(r'[^a-zçğıöşü0-9\\s#@]', '', text)\n",
    "\n",
    "    # Remove numbers\n",
    "    text = re.sub(r'\\d+', '', text)\n",
    "\n",
    "    # Remove extra whitespaces\n",
    "    text = re.sub(r'\\s+', ' ', text).strip()\n",
    "\n",
    "    return text\n",
    "\n",
    "\n",
    "corpus = []\n",
    "train_usernames = []\n",
    "\n",
    "for username, posts in username2posts_train.items():\n",
    "  train_usernames.append(username)\n",
    "\n",
    "  # aggregating the posts per user\n",
    "  cleaned_captions = []\n",
    "  for post in posts:\n",
    "    post_caption = post.get(\"caption\", \"\")\n",
    "    if post_caption is None:\n",
    "      continue\n",
    "\n",
    "    post_caption = preprocess_text(post_caption)\n",
    "\n",
    "    if post_caption != \"\":\n",
    "      cleaned_captions.append(post_caption)\n",
    "\n",
    "\n",
    "  # joining the posts of each user with a \\n\n",
    "  user_post_captions = \"\\n\".join(cleaned_captions)\n",
    "  corpus.append(user_post_captions)\n",
    "\n",
    "\n",
    "vectorizer = TfidfVectorizer(stop_words=turkish_stopwords, max_features=5000)\n",
    "\n",
    "# fit the vectorizer\n",
    "vectorizer.fit(corpus)\n",
    "\n",
    "test_usernames = []\n",
    "test_corpus = []\n",
    "for username, posts in username2posts_test.items():\n",
    "  test_usernames.append(username)\n",
    "  # aggregating the posts per user\n",
    "  cleaned_captions = []\n",
    "  for post in posts:\n",
    "    post_caption = post.get(\"caption\", \"\")\n",
    "    if post_caption is None:\n",
    "      continue\n",
    "\n",
    "    post_caption = preprocess_text(post_caption)\n",
    "\n",
    "    if post_caption != \"\":\n",
    "      cleaned_captions.append(post_caption)\n",
    "\n",
    "  user_post_captions = \"\\n\".join(cleaned_captions)\n",
    "  test_corpus.append(user_post_captions)\n",
    "\n",
    "\n",
    "# Just transforming! No Fitting!!!!!\n",
    "x_post_test = vectorizer.transform(test_corpus)"
   ]
  },
  {
   "cell_type": "markdown",
   "metadata": {},
   "source": [
    "## Synthesis data"
   ]
  },
  {
   "cell_type": "markdown",
   "metadata": {},
   "source": [
    "append biography of each account to caption and transofrm again to slightly shift the TF IDF to doulbe our train set"
   ]
  },
  {
   "cell_type": "code",
   "execution_count": 7,
   "metadata": {},
   "outputs": [],
   "source": [
    "for username, posts in username2posts_train.items():\n",
    "    train_usernames.append(username)\n",
    "\n",
    "    # Aggregating posts per user\n",
    "    cleaned_captions = []\n",
    "    for post in posts:\n",
    "        post_caption = post.get(\"caption\", \"\")\n",
    "        if post_caption is None:\n",
    "            continue\n",
    "\n",
    "        # Preprocess the caption\n",
    "        post_caption = preprocess_text(post_caption)\n",
    "\n",
    "        if post_caption != \"\":\n",
    "            cleaned_captions.append(post_caption)\n",
    "\n",
    "    # Preprocess the biography \n",
    "    biography = username2profile_train[username].get(\"biography\", \"\")\n",
    "    if biography:\n",
    "        biography = preprocess_text(biography)\n",
    "        cleaned_captions.append(biography)\n",
    "\n",
    "    full_name = username2profile_train[username].get(\"full_name\", \"\")\n",
    "    if full_name:\n",
    "        full_name = preprocess_text(full_name)\n",
    "        cleaned_captions.append(full_name)\n",
    "        \n",
    "    # Joining the posts and biography with a \\n\n",
    "    user_post_captions = \"\\n\".join(cleaned_captions)\n",
    "    corpus.append(user_post_captions)\n",
    "\n",
    "# Transform the data into vectors\n",
    "x_post_train = vectorizer.transform(corpus)\n",
    "y_train = [username2_category.get(uname, \"NA\") for uname in train_usernames]\n"
   ]
  },
  {
   "cell_type": "code",
   "execution_count": 8,
   "metadata": {},
   "outputs": [
    {
     "data": {
      "text/plain": [
       "array(['abdullah', 'abone', 'about', ..., 'şık', 'şıklık', 'şıklığı'],\n",
       "      dtype=object)"
      ]
     },
     "execution_count": 8,
     "metadata": {},
     "output_type": "execute_result"
    }
   ],
   "source": [
    "feature_names = vectorizer.get_feature_names_out()\n",
    "feature_names"
   ]
  },
  {
   "cell_type": "code",
   "execution_count": 9,
   "metadata": {},
   "outputs": [
    {
     "data": {
      "text/html": [
       "<div>\n",
       "<style scoped>\n",
       "    .dataframe tbody tr th:only-of-type {\n",
       "        vertical-align: middle;\n",
       "    }\n",
       "\n",
       "    .dataframe tbody tr th {\n",
       "        vertical-align: top;\n",
       "    }\n",
       "\n",
       "    .dataframe thead th {\n",
       "        text-align: right;\n",
       "    }\n",
       "</style>\n",
       "<table border=\"1\" class=\"dataframe\">\n",
       "  <thead>\n",
       "    <tr style=\"text-align: right;\">\n",
       "      <th></th>\n",
       "      <th>abdullah</th>\n",
       "      <th>abone</th>\n",
       "      <th>about</th>\n",
       "      <th>acele</th>\n",
       "      <th>acil</th>\n",
       "      <th>activities</th>\n",
       "      <th>acı</th>\n",
       "      <th>ad</th>\n",
       "      <th>ada</th>\n",
       "      <th>adam</th>\n",
       "      <th>...</th>\n",
       "      <th>şubemiz</th>\n",
       "      <th>şubesi</th>\n",
       "      <th>şölen</th>\n",
       "      <th>şöleni</th>\n",
       "      <th>şöyle</th>\n",
       "      <th>şükranla</th>\n",
       "      <th>şükür</th>\n",
       "      <th>şık</th>\n",
       "      <th>şıklık</th>\n",
       "      <th>şıklığı</th>\n",
       "    </tr>\n",
       "  </thead>\n",
       "  <tbody>\n",
       "    <tr>\n",
       "      <th>0</th>\n",
       "      <td>0.0</td>\n",
       "      <td>0.0</td>\n",
       "      <td>0.0</td>\n",
       "      <td>0.0</td>\n",
       "      <td>0.0</td>\n",
       "      <td>0.0</td>\n",
       "      <td>0.0</td>\n",
       "      <td>0.0</td>\n",
       "      <td>0.0</td>\n",
       "      <td>0.0</td>\n",
       "      <td>...</td>\n",
       "      <td>0.0</td>\n",
       "      <td>0.0</td>\n",
       "      <td>0.0</td>\n",
       "      <td>0.0</td>\n",
       "      <td>0.0</td>\n",
       "      <td>0.0</td>\n",
       "      <td>0.0</td>\n",
       "      <td>0.050596</td>\n",
       "      <td>0.0</td>\n",
       "      <td>0.0</td>\n",
       "    </tr>\n",
       "    <tr>\n",
       "      <th>1</th>\n",
       "      <td>0.0</td>\n",
       "      <td>0.0</td>\n",
       "      <td>0.0</td>\n",
       "      <td>0.0</td>\n",
       "      <td>0.0</td>\n",
       "      <td>0.0</td>\n",
       "      <td>0.0</td>\n",
       "      <td>0.0</td>\n",
       "      <td>0.0</td>\n",
       "      <td>0.0</td>\n",
       "      <td>...</td>\n",
       "      <td>0.0</td>\n",
       "      <td>0.0</td>\n",
       "      <td>0.0</td>\n",
       "      <td>0.0</td>\n",
       "      <td>0.0</td>\n",
       "      <td>0.0</td>\n",
       "      <td>0.0</td>\n",
       "      <td>0.000000</td>\n",
       "      <td>0.0</td>\n",
       "      <td>0.0</td>\n",
       "    </tr>\n",
       "  </tbody>\n",
       "</table>\n",
       "<p>2 rows × 5000 columns</p>\n",
       "</div>"
      ],
      "text/plain": [
       "   abdullah  abone  about  acele  acil  activities  acı   ad  ada  adam  ...  \\\n",
       "0       0.0    0.0    0.0    0.0   0.0         0.0  0.0  0.0  0.0   0.0  ...   \n",
       "1       0.0    0.0    0.0    0.0   0.0         0.0  0.0  0.0  0.0   0.0  ...   \n",
       "\n",
       "   şubemiz  şubesi  şölen  şöleni  şöyle  şükranla  şükür       şık  şıklık  \\\n",
       "0      0.0     0.0    0.0     0.0    0.0       0.0    0.0  0.050596     0.0   \n",
       "1      0.0     0.0    0.0     0.0    0.0       0.0    0.0  0.000000     0.0   \n",
       "\n",
       "   şıklığı  \n",
       "0      0.0  \n",
       "1      0.0  \n",
       "\n",
       "[2 rows x 5000 columns]"
      ]
     },
     "execution_count": 9,
     "metadata": {},
     "output_type": "execute_result"
    }
   ],
   "source": [
    "df_tfidf = pd.DataFrame(x_post_train.toarray(), columns=feature_names)\n",
    "df_tfidf.head(2)"
   ]
  },
  {
   "cell_type": "code",
   "execution_count": 10,
   "metadata": {},
   "outputs": [
    {
     "name": "stdout",
     "output_type": "stream",
     "text": [
      "Sparsity: 95.53%\n"
     ]
    }
   ],
   "source": [
    "import numpy as np\n",
    "\n",
    "# Calculate sparsity\n",
    "total_elements = df_tfidf.size\n",
    "non_zero_elements = np.count_nonzero(df_tfidf)\n",
    "sparsity = (1 - (non_zero_elements / total_elements)) * 100\n",
    "\n",
    "print(f\"Sparsity: {sparsity:.2f}%\")"
   ]
  },
  {
   "cell_type": "markdown",
   "metadata": {},
   "source": [
    "## Dimensionality Reduction for Spars Matrix"
   ]
  },
  {
   "cell_type": "code",
   "execution_count": 11,
   "metadata": {},
   "outputs": [
    {
     "name": "stdout",
     "output_type": "stream",
     "text": [
      "Number of components to retain 98% variance: 2132\n"
     ]
    },
    {
     "data": {
      "image/png": "[encoded data removed]",
      "text/plain": [
       "<Figure size 640x480 with 1 Axes>"
      ]
     },
     "metadata": {},
     "output_type": "display_data"
    }
   ],
   "source": [
    "from sklearn.decomposition import TruncatedSVD\n",
    "import numpy as np\n",
    "import matplotlib.pyplot as plt\n",
    "\n",
    "# Initialize Truncated SVD \n",
    "max_components = min(x_post_train.shape)  \n",
    "svd = TruncatedSVD(n_components=max_components, random_state=42)\n",
    "\n",
    "# Fit the SVD \n",
    "svd.fit(x_post_train)\n",
    "\n",
    "# Calculate the cumulative variance \n",
    "cumulative_variance = np.cumsum(svd.explained_variance_ratio_)\n",
    "\n",
    "# Find the number of components required for 98% variance\n",
    "n_components_percent = np.argmax(cumulative_variance >= 0.98) + 1\n",
    "\n",
    "print(f\"Number of components to retain 98% variance: {n_components_percent}\")\n",
    "\n",
    "# visualize the cumulative variance\n",
    "plt.plot(range(1, max_components + 1), cumulative_variance, marker='o')\n",
    "plt.axhline(y=0.98, color='r', linestyle='--', label=\"98% Variance Threshold\")\n",
    "plt.axvline(x=n_components_percent, color='g', linestyle='--', label=f\"{n_components_percent} Components\")\n",
    "plt.xlabel(\"Number of Components\")\n",
    "plt.ylabel(\"Cumulative Explained Variance\")\n",
    "plt.title(\"Explained Variance vs. Number of Components\")\n",
    "plt.legend()\n",
    "plt.grid()\n",
    "plt.show()"
   ]
  },
  {
   "cell_type": "code",
   "execution_count": 12,
   "metadata": {},
   "outputs": [
    {
     "name": "stdout",
     "output_type": "stream",
     "text": [
      "Variance retained: 97.97%\n"
     ]
    }
   ],
   "source": [
    "from sklearn.decomposition import TruncatedSVD\n",
    "\n",
    "# Retain 98% of the variance\n",
    "svd = TruncatedSVD(n_components=2132)  \n",
    "\n",
    "# Fit SVD on the training data\n",
    "svd.fit(x_post_train)\n",
    "\n",
    "# Transform the training data\n",
    "X_train_reduced = svd.transform(x_post_train)\n",
    "\n",
    "# Print explained variance ratio to ensure coverage\n",
    "explained_variance_ratio = svd.explained_variance_ratio_.sum()\n",
    "print(f\"Variance retained: {explained_variance_ratio * 100:.2f}%\")\n"
   ]
  },
  {
   "cell_type": "code",
   "execution_count": 13,
   "metadata": {},
   "outputs": [],
   "source": [
    "from sklearn.model_selection import train_test_split\n",
    "\n",
    "x_train, x_val, y_train, y_val = train_test_split(X_train_reduced, y_train, test_size=0.2, stratify=y_train, random_state=42)"
   ]
  },
  {
   "cell_type": "markdown",
   "metadata": {},
   "source": [
    "## Tuneing Ensemble Model"
   ]
  },
  {
   "cell_type": "code",
   "execution_count": 14,
   "metadata": {},
   "outputs": [
    {
     "name": "stderr",
     "output_type": "stream",
     "text": [
      "[I 2025-01-03 23:38:21,319] Using an existing study with name 'class2' instead of creating a new one.\n"
     ]
    },
    {
     "data": {
      "application/vnd.jupyter.widget-view+json": {
       "model_id": "ab821d7e2cb348cb9baa439979974b86",
       "version_major": 2,
       "version_minor": 0
      },
      "text/plain": [
       "  0%|          | 0/100 [00:00<?, ?it/s]"
      ]
     },
     "metadata": {},
     "output_type": "display_data"
    },
    {
     "name": "stderr",
     "output_type": "stream",
     "text": [
      "c:\\Users\\Sina\\Documents\\University\\CS412\\Proj\\.venv\\Lib\\site-packages\\optuna\\distributions.py:708: UserWarning: The distribution is specified by [5, 50] and step=2, but the range is not divisible by `step`. It will be replaced by [5, 49].\n",
      "  warnings.warn(\n",
      "c:\\Users\\Sina\\Documents\\University\\CS412\\Proj\\.venv\\Lib\\site-packages\\optuna\\distributions.py:708: UserWarning: The distribution is specified by [5, 50] and step=2, but the range is not divisible by `step`. It will be replaced by [5, 49].\n",
      "  warnings.warn(\n",
      "c:\\Users\\Sina\\Documents\\University\\CS412\\Proj\\.venv\\Lib\\site-packages\\optuna\\distributions.py:708: UserWarning: The distribution is specified by [5, 50] and step=2, but the range is not divisible by `step`. It will be replaced by [5, 49].\n",
      "  warnings.warn(\n",
      "c:\\Users\\Sina\\Documents\\University\\CS412\\Proj\\.venv\\Lib\\site-packages\\optuna\\distributions.py:708: UserWarning: The distribution is specified by [5, 50] and step=2, but the range is not divisible by `step`. It will be replaced by [5, 49].\n",
      "  warnings.warn(\n",
      "c:\\Users\\Sina\\Documents\\University\\CS412\\Proj\\.venv\\Lib\\site-packages\\optuna\\distributions.py:708: UserWarning: The distribution is specified by [5, 50] and step=2, but the range is not divisible by `step`. It will be replaced by [5, 49].\n",
      "  warnings.warn(\n",
      "c:\\Users\\Sina\\Documents\\University\\CS412\\Proj\\.venv\\Lib\\site-packages\\optuna\\distributions.py:708: UserWarning: The distribution is specified by [5, 50] and step=2, but the range is not divisible by `step`. It will be replaced by [5, 49].\n",
      "  warnings.warn(\n",
      "c:\\Users\\Sina\\Documents\\University\\CS412\\Proj\\.venv\\Lib\\site-packages\\optuna\\distributions.py:708: UserWarning: The distribution is specified by [5, 50] and step=2, but the range is not divisible by `step`. It will be replaced by [5, 49].\n",
      "  warnings.warn(\n",
      "c:\\Users\\Sina\\Documents\\University\\CS412\\Proj\\.venv\\Lib\\site-packages\\optuna\\distributions.py:708: UserWarning: The distribution is specified by [5, 50] and step=2, but the range is not divisible by `step`. It will be replaced by [5, 49].\n",
      "  warnings.warn(\n"
     ]
    },
    {
     "name": "stdout",
     "output_type": "stream",
     "text": [
      "[I 2025-01-03 23:46:02,382] Trial 11 finished with value: 0.44492588369441277 and parameters: {'svm_c': 0.4978331459006681, 'svm_kernel': 'poly', 'svm_gamma': 0.06721947547184089, 'rf_n_estimators': 215, 'rf_max_depth': 17, 'rf_max_features': 'sqrt', 'rf_min_samples_split': 8, 'rf_min_samples_leaf': 9, 'rf_max_leaf_nodes': 163, 'rf_max_samples': 0.43919178335131115, 'lr_c': 0.024443369947336223}. Best is trial 11 with value: 0.44492588369441277.\n"
     ]
    },
    {
     "name": "stderr",
     "output_type": "stream",
     "text": [
      "c:\\Users\\Sina\\Documents\\University\\CS412\\Proj\\.venv\\Lib\\site-packages\\optuna\\distributions.py:708: UserWarning: The distribution is specified by [5, 50] and step=2, but the range is not divisible by `step`. It will be replaced by [5, 49].\n",
      "  warnings.warn(\n"
     ]
    },
    {
     "name": "stdout",
     "output_type": "stream",
     "text": [
      "[I 2025-01-04 00:02:09,901] Trial 12 finished with value: 0.6437856328392246 and parameters: {'svm_c': 2.1516986589371654, 'svm_kernel': 'poly', 'svm_gamma': 0.022825756325479243, 'rf_n_estimators': 55, 'rf_max_depth': 15, 'rf_max_features': None, 'rf_min_samples_split': 12, 'rf_min_samples_leaf': 12, 'rf_max_leaf_nodes': 23, 'rf_max_samples': 0.9545137389352256, 'lr_c': 0.9928976297013876}. Best is trial 12 with value: 0.6437856328392246.\n"
     ]
    },
    {
     "name": "stderr",
     "output_type": "stream",
     "text": [
      "c:\\Users\\Sina\\Documents\\University\\CS412\\Proj\\.venv\\Lib\\site-packages\\optuna\\distributions.py:708: UserWarning: The distribution is specified by [5, 50] and step=2, but the range is not divisible by `step`. It will be replaced by [5, 49].\n",
      "  warnings.warn(\n"
     ]
    },
    {
     "name": "stdout",
     "output_type": "stream",
     "text": [
      "[I 2025-01-04 00:08:52,419] Trial 17 finished with value: 0.8695553021664766 and parameters: {'svm_c': 3.1242355817396623, 'svm_kernel': 'linear', 'svm_gamma': 0.0003698041678779271, 'rf_n_estimators': 177, 'rf_max_depth': 41, 'rf_max_features': None, 'rf_min_samples_split': 10, 'rf_min_samples_leaf': 9, 'rf_max_leaf_nodes': 295, 'rf_max_samples': 0.4415614097350906, 'lr_c': 0.044896363749179706}. Best is trial 17 with value: 0.8695553021664766.\n"
     ]
    },
    {
     "name": "stderr",
     "output_type": "stream",
     "text": [
      "c:\\Users\\Sina\\Documents\\University\\CS412\\Proj\\.venv\\Lib\\site-packages\\optuna\\distributions.py:708: UserWarning: The distribution is specified by [5, 50] and step=2, but the range is not divisible by `step`. It will be replaced by [5, 49].\n",
      "  warnings.warn(\n"
     ]
    },
    {
     "name": "stdout",
     "output_type": "stream",
     "text": [
      "[I 2025-01-04 00:09:53,525] Trial 14 finished with value: 0.46727480045610037 and parameters: {'svm_c': 2.3533680384593474, 'svm_kernel': 'poly', 'svm_gamma': 0.028709237163468192, 'rf_n_estimators': 229, 'rf_max_depth': 35, 'rf_max_features': 'sqrt', 'rf_min_samples_split': 13, 'rf_min_samples_leaf': 11, 'rf_max_leaf_nodes': 152, 'rf_max_samples': 0.7162833155554962, 'lr_c': 0.035087981277920115}. Best is trial 17 with value: 0.8695553021664766.\n"
     ]
    },
    {
     "name": "stderr",
     "output_type": "stream",
     "text": [
      "c:\\Users\\Sina\\Documents\\University\\CS412\\Proj\\.venv\\Lib\\site-packages\\optuna\\distributions.py:708: UserWarning: The distribution is specified by [5, 50] and step=2, but the range is not divisible by `step`. It will be replaced by [5, 49].\n",
      "  warnings.warn(\n"
     ]
    },
    {
     "name": "stdout",
     "output_type": "stream",
     "text": [
      "[I 2025-01-04 00:16:34,369] Trial 10 finished with value: 0.5090079817559864 and parameters: {'svm_c': 0.10029768613003467, 'svm_kernel': 'poly', 'svm_gamma': 0.08309953805579938, 'rf_n_estimators': 47, 'rf_max_depth': 15, 'rf_max_features': None, 'rf_min_samples_split': 10, 'rf_min_samples_leaf': 20, 'rf_max_leaf_nodes': 177, 'rf_max_samples': 0.9549618216342971, 'lr_c': 0.07228711806917984}. Best is trial 17 with value: 0.8695553021664766.\n"
     ]
    },
    {
     "name": "stderr",
     "output_type": "stream",
     "text": [
      "c:\\Users\\Sina\\Documents\\University\\CS412\\Proj\\.venv\\Lib\\site-packages\\optuna\\distributions.py:708: UserWarning: The distribution is specified by [5, 50] and step=2, but the range is not divisible by `step`. It will be replaced by [5, 49].\n",
      "  warnings.warn(\n"
     ]
    },
    {
     "name": "stdout",
     "output_type": "stream",
     "text": [
      "[I 2025-01-04 00:31:34,331] Trial 16 finished with value: 0.8690992018244014 and parameters: {'svm_c': 3.272668914751221, 'svm_kernel': 'linear', 'svm_gamma': 0.6376740096092491, 'rf_n_estimators': 190, 'rf_max_depth': 49, 'rf_max_features': 'sqrt', 'rf_min_samples_split': 10, 'rf_min_samples_leaf': 8, 'rf_max_leaf_nodes': 173, 'rf_max_samples': 0.1581455061790605, 'lr_c': 0.010362870626773352}. Best is trial 17 with value: 0.8695553021664766.\n"
     ]
    },
    {
     "name": "stderr",
     "output_type": "stream",
     "text": [
      "c:\\Users\\Sina\\Documents\\University\\CS412\\Proj\\.venv\\Lib\\site-packages\\optuna\\distributions.py:708: UserWarning: The distribution is specified by [5, 50] and step=2, but the range is not divisible by `step`. It will be replaced by [5, 49].\n",
      "  warnings.warn(\n"
     ]
    },
    {
     "name": "stdout",
     "output_type": "stream",
     "text": [
      "[I 2025-01-04 00:32:33,477] Trial 15 finished with value: 0.8389965792474344 and parameters: {'svm_c': 0.10781363498086043, 'svm_kernel': 'rbf', 'svm_gamma': 0.0011853888037683389, 'rf_n_estimators': 135, 'rf_max_depth': 5, 'rf_max_features': 'sqrt', 'rf_min_samples_split': 9, 'rf_min_samples_leaf': 18, 'rf_max_leaf_nodes': 25, 'rf_max_samples': 0.7602321967085656, 'lr_c': 7.772978133109165}. Best is trial 17 with value: 0.8695553021664766.\n"
     ]
    },
    {
     "name": "stderr",
     "output_type": "stream",
     "text": [
      "c:\\Users\\Sina\\Documents\\University\\CS412\\Proj\\.venv\\Lib\\site-packages\\optuna\\distributions.py:708: UserWarning: The distribution is specified by [5, 50] and step=2, but the range is not divisible by `step`. It will be replaced by [5, 49].\n",
      "  warnings.warn(\n"
     ]
    },
    {
     "name": "stdout",
     "output_type": "stream",
     "text": [
      "[I 2025-01-04 00:40:00,463] Trial 19 finished with value: 0.6923603192702393 and parameters: {'svm_c': 0.9426956606728323, 'svm_kernel': 'sigmoid', 'svm_gamma': 0.002506331486267225, 'rf_n_estimators': 189, 'rf_max_depth': 11, 'rf_max_features': 'log2', 'rf_min_samples_split': 13, 'rf_min_samples_leaf': 7, 'rf_max_leaf_nodes': 221, 'rf_max_samples': 0.8005998704193328, 'lr_c': 0.01652104475816779}. Best is trial 17 with value: 0.8695553021664766.\n"
     ]
    },
    {
     "name": "stderr",
     "output_type": "stream",
     "text": [
      "c:\\Users\\Sina\\Documents\\University\\CS412\\Proj\\.venv\\Lib\\site-packages\\optuna\\distributions.py:708: UserWarning: The distribution is specified by [5, 50] and step=2, but the range is not divisible by `step`. It will be replaced by [5, 49].\n",
      "  warnings.warn(\n"
     ]
    },
    {
     "name": "stdout",
     "output_type": "stream",
     "text": [
      "[I 2025-01-04 00:46:27,212] Trial 13 finished with value: 0.6241733181299886 and parameters: {'svm_c': 1.3170893274288764, 'svm_kernel': 'poly', 'svm_gamma': 0.003130722158767201, 'rf_n_estimators': 249, 'rf_max_depth': 37, 'rf_max_features': 'sqrt', 'rf_min_samples_split': 15, 'rf_min_samples_leaf': 18, 'rf_max_leaf_nodes': 32, 'rf_max_samples': 0.6994397315453083, 'lr_c': 0.21855225445877388}. Best is trial 17 with value: 0.8695553021664766.\n"
     ]
    },
    {
     "name": "stderr",
     "output_type": "stream",
     "text": [
      "c:\\Users\\Sina\\Documents\\University\\CS412\\Proj\\.venv\\Lib\\site-packages\\optuna\\distributions.py:708: UserWarning: The distribution is specified by [5, 50] and step=2, but the range is not divisible by `step`. It will be replaced by [5, 49].\n",
      "  warnings.warn(\n"
     ]
    },
    {
     "name": "stdout",
     "output_type": "stream",
     "text": [
      "[I 2025-01-04 00:50:05,210] Trial 18 finished with value: 0.703078677309008 and parameters: {'svm_c': 0.16886324662253266, 'svm_kernel': 'sigmoid', 'svm_gamma': 0.8889473139357478, 'rf_n_estimators': 113, 'rf_max_depth': 47, 'rf_max_features': None, 'rf_min_samples_split': 17, 'rf_min_samples_leaf': 16, 'rf_max_leaf_nodes': 164, 'rf_max_samples': 0.2718421205362245, 'lr_c': 0.042697762796280764}. Best is trial 17 with value: 0.8695553021664766.\n"
     ]
    },
    {
     "name": "stderr",
     "output_type": "stream",
     "text": [
      "c:\\Users\\Sina\\Documents\\University\\CS412\\Proj\\.venv\\Lib\\site-packages\\optuna\\distributions.py:708: UserWarning: The distribution is specified by [5, 50] and step=2, but the range is not divisible by `step`. It will be replaced by [5, 49].\n",
      "  warnings.warn(\n"
     ]
    },
    {
     "name": "stdout",
     "output_type": "stream",
     "text": [
      "[I 2025-01-04 00:56:04,986] Trial 20 finished with value: 0.5090079817559863 and parameters: {'svm_c': 1.0434700539207629, 'svm_kernel': 'poly', 'svm_gamma': 0.004785903918976891, 'rf_n_estimators': 38, 'rf_max_depth': 25, 'rf_max_features': None, 'rf_min_samples_split': 17, 'rf_min_samples_leaf': 4, 'rf_max_leaf_nodes': 47, 'rf_max_samples': 0.9218551540921639, 'lr_c': 0.030368784350694}. Best is trial 17 with value: 0.8695553021664766.\n"
     ]
    },
    {
     "name": "stderr",
     "output_type": "stream",
     "text": [
      "c:\\Users\\Sina\\Documents\\University\\CS412\\Proj\\.venv\\Lib\\site-packages\\optuna\\distributions.py:708: UserWarning: The distribution is specified by [5, 50] and step=2, but the range is not divisible by `step`. It will be replaced by [5, 49].\n",
      "  warnings.warn(\n"
     ]
    },
    {
     "name": "stdout",
     "output_type": "stream",
     "text": [
      "[I 2025-01-04 00:57:47,512] Trial 21 finished with value: 0.625769669327252 and parameters: {'svm_c': 5.363524574253293, 'svm_kernel': 'poly', 'svm_gamma': 0.0003668469021734156, 'rf_n_estimators': 145, 'rf_max_depth': 31, 'rf_max_features': None, 'rf_min_samples_split': 14, 'rf_min_samples_leaf': 7, 'rf_max_leaf_nodes': 229, 'rf_max_samples': 0.11595071471219451, 'lr_c': 0.3340267120750863}. Best is trial 17 with value: 0.8695553021664766.\n"
     ]
    },
    {
     "name": "stderr",
     "output_type": "stream",
     "text": [
      "c:\\Users\\Sina\\Documents\\University\\CS412\\Proj\\.venv\\Lib\\site-packages\\optuna\\distributions.py:708: UserWarning: The distribution is specified by [5, 50] and step=2, but the range is not divisible by `step`. It will be replaced by [5, 49].\n",
      "  warnings.warn(\n"
     ]
    },
    {
     "name": "stdout",
     "output_type": "stream",
     "text": [
      "[I 2025-01-04 01:07:17,588] Trial 22 finished with value: 0.7003420752565563 and parameters: {'svm_c': 5.089685650167656, 'svm_kernel': 'poly', 'svm_gamma': 0.0009619528085843419, 'rf_n_estimators': 244, 'rf_max_depth': 25, 'rf_max_features': None, 'rf_min_samples_split': 5, 'rf_min_samples_leaf': 10, 'rf_max_leaf_nodes': 57, 'rf_max_samples': 0.8397686185989628, 'lr_c': 0.7026575427886104}. Best is trial 17 with value: 0.8695553021664766.\n"
     ]
    },
    {
     "name": "stderr",
     "output_type": "stream",
     "text": [
      "c:\\Users\\Sina\\Documents\\University\\CS412\\Proj\\.venv\\Lib\\site-packages\\optuna\\distributions.py:708: UserWarning: The distribution is specified by [5, 50] and step=2, but the range is not divisible by `step`. It will be replaced by [5, 49].\n",
      "  warnings.warn(\n"
     ]
    },
    {
     "name": "stdout",
     "output_type": "stream",
     "text": [
      "[I 2025-01-04 01:20:37,684] Trial 23 finished with value: 0.83557582668187 and parameters: {'svm_c': 0.4842562758827691, 'svm_kernel': 'linear', 'svm_gamma': 0.03517230174005111, 'rf_n_estimators': 110, 'rf_max_depth': 31, 'rf_max_features': None, 'rf_min_samples_split': 11, 'rf_min_samples_leaf': 16, 'rf_max_leaf_nodes': 47, 'rf_max_samples': 0.834484135267006, 'lr_c': 9.267491526497377}. Best is trial 17 with value: 0.8695553021664766.\n"
     ]
    },
    {
     "name": "stderr",
     "output_type": "stream",
     "text": [
      "c:\\Users\\Sina\\Documents\\University\\CS412\\Proj\\.venv\\Lib\\site-packages\\optuna\\distributions.py:708: UserWarning: The distribution is specified by [5, 50] and step=2, but the range is not divisible by `step`. It will be replaced by [5, 49].\n",
      "  warnings.warn(\n"
     ]
    },
    {
     "name": "stdout",
     "output_type": "stream",
     "text": [
      "[I 2025-01-04 01:23:16,634] Trial 24 finished with value: 0.6811858608893957 and parameters: {'svm_c': 0.14828006761585397, 'svm_kernel': 'poly', 'svm_gamma': 0.003622278346414634, 'rf_n_estimators': 133, 'rf_max_depth': 29, 'rf_max_features': None, 'rf_min_samples_split': 10, 'rf_min_samples_leaf': 7, 'rf_max_leaf_nodes': 178, 'rf_max_samples': 0.858213772649565, 'lr_c': 0.08169278065489759}. Best is trial 17 with value: 0.8695553021664766.\n"
     ]
    },
    {
     "name": "stderr",
     "output_type": "stream",
     "text": [
      "c:\\Users\\Sina\\Documents\\University\\CS412\\Proj\\.venv\\Lib\\site-packages\\optuna\\distributions.py:708: UserWarning: The distribution is specified by [5, 50] and step=2, but the range is not divisible by `step`. It will be replaced by [5, 49].\n",
      "  warnings.warn(\n"
     ]
    },
    {
     "name": "stdout",
     "output_type": "stream",
     "text": [
      "[I 2025-01-04 01:28:32,390] Trial 25 finished with value: 0.6982896237172178 and parameters: {'svm_c': 0.5699771808437275, 'svm_kernel': 'sigmoid', 'svm_gamma': 0.00013016800479769992, 'rf_n_estimators': 138, 'rf_max_depth': 43, 'rf_max_features': None, 'rf_min_samples_split': 19, 'rf_min_samples_leaf': 20, 'rf_max_leaf_nodes': 170, 'rf_max_samples': 0.47147466975794805, 'lr_c': 1.0922383425730384}. Best is trial 17 with value: 0.8695553021664766.\n"
     ]
    },
    {
     "name": "stderr",
     "output_type": "stream",
     "text": [
      "c:\\Users\\Sina\\Documents\\University\\CS412\\Proj\\.venv\\Lib\\site-packages\\optuna\\distributions.py:708: UserWarning: The distribution is specified by [5, 50] and step=2, but the range is not divisible by `step`. It will be replaced by [5, 49].\n",
      "  warnings.warn(\n"
     ]
    },
    {
     "name": "stdout",
     "output_type": "stream",
     "text": [
      "[I 2025-01-04 01:31:54,262] Trial 26 finished with value: 0.34800456100342075 and parameters: {'svm_c': 0.379368929206616, 'svm_kernel': 'poly', 'svm_gamma': 0.0004541937561452726, 'rf_n_estimators': 18, 'rf_max_depth': 31, 'rf_max_features': 'log2', 'rf_min_samples_split': 10, 'rf_min_samples_leaf': 13, 'rf_max_leaf_nodes': 207, 'rf_max_samples': 0.14435401647216206, 'lr_c': 0.0343290097103507}. Best is trial 17 with value: 0.8695553021664766.\n"
     ]
    },
    {
     "name": "stderr",
     "output_type": "stream",
     "text": [
      "c:\\Users\\Sina\\Documents\\University\\CS412\\Proj\\.venv\\Lib\\site-packages\\optuna\\distributions.py:708: UserWarning: The distribution is specified by [5, 50] and step=2, but the range is not divisible by `step`. It will be replaced by [5, 49].\n",
      "  warnings.warn(\n"
     ]
    },
    {
     "name": "stdout",
     "output_type": "stream",
     "text": [
      "[I 2025-01-04 01:41:58,249] Trial 27 finished with value: 0.7297605473204105 and parameters: {'svm_c': 0.16684438928636494, 'svm_kernel': 'linear', 'svm_gamma': 0.00013600974460691162, 'rf_n_estimators': 284, 'rf_max_depth': 15, 'rf_max_features': 'log2', 'rf_min_samples_split': 5, 'rf_min_samples_leaf': 5, 'rf_max_leaf_nodes': 275, 'rf_max_samples': 0.816385973845935, 'lr_c': 0.02509574295663527}. Best is trial 17 with value: 0.8695553021664766.\n"
     ]
    },
    {
     "name": "stderr",
     "output_type": "stream",
     "text": [
      "c:\\Users\\Sina\\Documents\\University\\CS412\\Proj\\.venv\\Lib\\site-packages\\optuna\\distributions.py:708: UserWarning: The distribution is specified by [5, 50] and step=2, but the range is not divisible by `step`. It will be replaced by [5, 49].\n",
      "  warnings.warn(\n"
     ]
    },
    {
     "name": "stdout",
     "output_type": "stream",
     "text": [
      "[I 2025-01-04 01:45:41,822] Trial 28 finished with value: 0.7181299885974914 and parameters: {'svm_c': 3.3206064746841912, 'svm_kernel': 'sigmoid', 'svm_gamma': 0.0005026826447397121, 'rf_n_estimators': 270, 'rf_max_depth': 9, 'rf_max_features': None, 'rf_min_samples_split': 11, 'rf_min_samples_leaf': 8, 'rf_max_leaf_nodes': 197, 'rf_max_samples': 0.6099415272727953, 'lr_c': 0.26047021944568044}. Best is trial 17 with value: 0.8695553021664766.\n"
     ]
    },
    {
     "name": "stderr",
     "output_type": "stream",
     "text": [
      "c:\\Users\\Sina\\Documents\\University\\CS412\\Proj\\.venv\\Lib\\site-packages\\optuna\\distributions.py:708: UserWarning: The distribution is specified by [5, 50] and step=2, but the range is not divisible by `step`. It will be replaced by [5, 49].\n",
      "  warnings.warn(\n"
     ]
    },
    {
     "name": "stdout",
     "output_type": "stream",
     "text": [
      "[I 2025-01-04 02:03:36,980] Trial 29 finished with value: 0.8768529076396808 and parameters: {'svm_c': 9.28312226573499, 'svm_kernel': 'linear', 'svm_gamma': 0.00012818167519488074, 'rf_n_estimators': 295, 'rf_max_depth': 27, 'rf_max_features': 'log2', 'rf_min_samples_split': 5, 'rf_min_samples_leaf': 3, 'rf_max_leaf_nodes': 293, 'rf_max_samples': 0.45343770475715867, 'lr_c': 0.3141571105431345}. Best is trial 29 with value: 0.8768529076396808.\n"
     ]
    },
    {
     "name": "stderr",
     "output_type": "stream",
     "text": [
      "c:\\Users\\Sina\\Documents\\University\\CS412\\Proj\\.venv\\Lib\\site-packages\\optuna\\distributions.py:708: UserWarning: The distribution is specified by [5, 50] and step=2, but the range is not divisible by `step`. It will be replaced by [5, 49].\n",
      "  warnings.warn(\n"
     ]
    },
    {
     "name": "stdout",
     "output_type": "stream",
     "text": [
      "[I 2025-01-04 02:23:39,666] Trial 30 finished with value: 0.8709236031927023 and parameters: {'svm_c': 7.826097881936262, 'svm_kernel': 'linear', 'svm_gamma': 0.00047823926308889126, 'rf_n_estimators': 296, 'rf_max_depth': 47, 'rf_max_features': 'log2', 'rf_min_samples_split': 5, 'rf_min_samples_leaf': 5, 'rf_max_leaf_nodes': 270, 'rf_max_samples': 0.2502597344503684, 'lr_c': 0.010421048860965575}. Best is trial 29 with value: 0.8768529076396808.\n"
     ]
    },
    {
     "name": "stderr",
     "output_type": "stream",
     "text": [
      "c:\\Users\\Sina\\Documents\\University\\CS412\\Proj\\.venv\\Lib\\site-packages\\optuna\\distributions.py:708: UserWarning: The distribution is specified by [5, 50] and step=2, but the range is not divisible by `step`. It will be replaced by [5, 49].\n",
      "  warnings.warn(\n"
     ]
    },
    {
     "name": "stdout",
     "output_type": "stream",
     "text": [
      "[I 2025-01-04 02:28:40,071] Trial 31 finished with value: 0.8734321550741162 and parameters: {'svm_c': 6.6025000087182555, 'svm_kernel': 'linear', 'svm_gamma': 0.00012104212575221917, 'rf_n_estimators': 297, 'rf_max_depth': 49, 'rf_max_features': 'log2', 'rf_min_samples_split': 5, 'rf_min_samples_leaf': 3, 'rf_max_leaf_nodes': 269, 'rf_max_samples': 0.4468641514697658, 'lr_c': 0.013454468717820184}. Best is trial 29 with value: 0.8768529076396808.\n"
     ]
    },
    {
     "name": "stderr",
     "output_type": "stream",
     "text": [
      "c:\\Users\\Sina\\Documents\\University\\CS412\\Proj\\.venv\\Lib\\site-packages\\optuna\\distributions.py:708: UserWarning: The distribution is specified by [5, 50] and step=2, but the range is not divisible by `step`. It will be replaced by [5, 49].\n",
      "  warnings.warn(\n"
     ]
    },
    {
     "name": "stdout",
     "output_type": "stream",
     "text": [
      "[I 2025-01-04 02:45:48,627] Trial 32 finished with value: 0.8738882554161915 and parameters: {'svm_c': 7.8243557424730525, 'svm_kernel': 'linear', 'svm_gamma': 0.00016016982846810593, 'rf_n_estimators': 174, 'rf_max_depth': 49, 'rf_max_features': 'log2', 'rf_min_samples_split': 7, 'rf_min_samples_leaf': 3, 'rf_max_leaf_nodes': 294, 'rf_max_samples': 0.42988120926077633, 'lr_c': 0.013485410760704294}. Best is trial 29 with value: 0.8768529076396808.\n"
     ]
    },
    {
     "name": "stderr",
     "output_type": "stream",
     "text": [
      "c:\\Users\\Sina\\Documents\\University\\CS412\\Proj\\.venv\\Lib\\site-packages\\optuna\\distributions.py:708: UserWarning: The distribution is specified by [5, 50] and step=2, but the range is not divisible by `step`. It will be replaced by [5, 49].\n",
      "  warnings.warn(\n"
     ]
    },
    {
     "name": "stdout",
     "output_type": "stream",
     "text": [
      "[I 2025-01-04 03:06:33,950] Trial 33 finished with value: 0.8722919042189281 and parameters: {'svm_c': 9.052690122075614, 'svm_kernel': 'linear', 'svm_gamma': 0.00010719284426853431, 'rf_n_estimators': 180, 'rf_max_depth': 49, 'rf_max_features': 'log2', 'rf_min_samples_split': 7, 'rf_min_samples_leaf': 3, 'rf_max_leaf_nodes': 283, 'rf_max_samples': 0.46362370571288347, 'lr_c': 0.011218778455198164}. Best is trial 29 with value: 0.8768529076396808.\n"
     ]
    },
    {
     "name": "stderr",
     "output_type": "stream",
     "text": [
      "c:\\Users\\Sina\\Documents\\University\\CS412\\Proj\\.venv\\Lib\\site-packages\\optuna\\distributions.py:708: UserWarning: The distribution is specified by [5, 50] and step=2, but the range is not divisible by `step`. It will be replaced by [5, 49].\n",
      "  warnings.warn(\n"
     ]
    },
    {
     "name": "stdout",
     "output_type": "stream",
     "text": [
      "[I 2025-01-04 03:09:02,761] Trial 34 finished with value: 0.8722919042189282 and parameters: {'svm_c': 9.242885627718538, 'svm_kernel': 'linear', 'svm_gamma': 0.00010243362511007389, 'rf_n_estimators': 181, 'rf_max_depth': 49, 'rf_max_features': 'log2', 'rf_min_samples_split': 20, 'rf_min_samples_leaf': 4, 'rf_max_leaf_nodes': 292, 'rf_max_samples': 0.48568566818979053, 'lr_c': 0.010550681664342752}. Best is trial 29 with value: 0.8768529076396808.\n"
     ]
    },
    {
     "name": "stderr",
     "output_type": "stream",
     "text": [
      "c:\\Users\\Sina\\Documents\\University\\CS412\\Proj\\.venv\\Lib\\site-packages\\optuna\\distributions.py:708: UserWarning: The distribution is specified by [5, 50] and step=2, but the range is not divisible by `step`. It will be replaced by [5, 49].\n",
      "  warnings.warn(\n"
     ]
    },
    {
     "name": "stdout",
     "output_type": "stream",
     "text": [
      "[I 2025-01-04 03:28:47,254] Trial 35 finished with value: 0.8716077537058153 and parameters: {'svm_c': 7.449690760804811, 'svm_kernel': 'linear', 'svm_gamma': 0.7838345908456005, 'rf_n_estimators': 197, 'rf_max_depth': 49, 'rf_max_features': 'log2', 'rf_min_samples_split': 7, 'rf_min_samples_leaf': 3, 'rf_max_leaf_nodes': 287, 'rf_max_samples': 0.29356238038953797, 'lr_c': 0.013346458458661961}. Best is trial 29 with value: 0.8768529076396808.\n"
     ]
    },
    {
     "name": "stderr",
     "output_type": "stream",
     "text": [
      "c:\\Users\\Sina\\Documents\\University\\CS412\\Proj\\.venv\\Lib\\site-packages\\optuna\\distributions.py:708: UserWarning: The distribution is specified by [5, 50] and step=2, but the range is not divisible by `step`. It will be replaced by [5, 49].\n",
      "  warnings.warn(\n"
     ]
    },
    {
     "name": "stdout",
     "output_type": "stream",
     "text": [
      "[I 2025-01-04 03:33:36,394] Trial 36 finished with value: 0.8748004561003422 and parameters: {'svm_c': 8.109865719731546, 'svm_kernel': 'linear', 'svm_gamma': 0.4287795769717839, 'rf_n_estimators': 298, 'rf_max_depth': 49, 'rf_max_features': 'sqrt', 'rf_min_samples_split': 7, 'rf_min_samples_leaf': 3, 'rf_max_leaf_nodes': 299, 'rf_max_samples': 0.3145593550207163, 'lr_c': 0.010221041767252987}. Best is trial 29 with value: 0.8768529076396808.\n"
     ]
    },
    {
     "name": "stderr",
     "output_type": "stream",
     "text": [
      "c:\\Users\\Sina\\Documents\\University\\CS412\\Proj\\.venv\\Lib\\site-packages\\optuna\\distributions.py:708: UserWarning: The distribution is specified by [5, 50] and step=2, but the range is not divisible by `step`. It will be replaced by [5, 49].\n",
      "  warnings.warn(\n"
     ]
    },
    {
     "name": "stdout",
     "output_type": "stream",
     "text": [
      "[I 2025-01-04 03:51:31,848] Trial 37 finished with value: 0.87115165336374 and parameters: {'svm_c': 9.916067680494667, 'svm_kernel': 'linear', 'svm_gamma': 0.8422889053413828, 'rf_n_estimators': 204, 'rf_max_depth': 49, 'rf_max_features': 'sqrt', 'rf_min_samples_split': 7, 'rf_min_samples_leaf': 14, 'rf_max_leaf_nodes': 299, 'rf_max_samples': 0.32746700236804765, 'lr_c': 0.012469689196682072}. Best is trial 29 with value: 0.8768529076396808.\n"
     ]
    },
    {
     "name": "stderr",
     "output_type": "stream",
     "text": [
      "c:\\Users\\Sina\\Documents\\University\\CS412\\Proj\\.venv\\Lib\\site-packages\\optuna\\distributions.py:708: UserWarning: The distribution is specified by [5, 50] and step=2, but the range is not divisible by `step`. It will be replaced by [5, 49].\n",
      "  warnings.warn(\n"
     ]
    },
    {
     "name": "stdout",
     "output_type": "stream",
     "text": [
      "[I 2025-01-04 04:11:43,819] Trial 38 finished with value: 0.8752565564424172 and parameters: {'svm_c': 8.006338764615341, 'svm_kernel': 'linear', 'svm_gamma': 0.17207853333873155, 'rf_n_estimators': 185, 'rf_max_depth': 49, 'rf_max_features': 'sqrt', 'rf_min_samples_split': 7, 'rf_min_samples_leaf': 3, 'rf_max_leaf_nodes': 295, 'rf_max_samples': 0.3102139628454715, 'lr_c': 0.08965899814750226}. Best is trial 29 with value: 0.8768529076396808.\n"
     ]
    },
    {
     "name": "stderr",
     "output_type": "stream",
     "text": [
      "c:\\Users\\Sina\\Documents\\University\\CS412\\Proj\\.venv\\Lib\\site-packages\\optuna\\distributions.py:708: UserWarning: The distribution is specified by [5, 50] and step=2, but the range is not divisible by `step`. It will be replaced by [5, 49].\n",
      "  warnings.warn(\n"
     ]
    },
    {
     "name": "stdout",
     "output_type": "stream",
     "text": [
      "[I 2025-01-04 04:16:49,075] Trial 39 finished with value: 0.8779931584948688 and parameters: {'svm_c': 9.96412445958313, 'svm_kernel': 'linear', 'svm_gamma': 0.0002067102119783412, 'rf_n_estimators': 300, 'rf_max_depth': 41, 'rf_max_features': 'log2', 'rf_min_samples_split': 7, 'rf_min_samples_leaf': 3, 'rf_max_leaf_nodes': 276, 'rf_max_samples': 0.30852097374093923, 'lr_c': 2.915193736936337}. Best is trial 39 with value: 0.8779931584948688.\n"
     ]
    },
    {
     "name": "stderr",
     "output_type": "stream",
     "text": [
      "c:\\Users\\Sina\\Documents\\University\\CS412\\Proj\\.venv\\Lib\\site-packages\\optuna\\distributions.py:708: UserWarning: The distribution is specified by [5, 50] and step=2, but the range is not divisible by `step`. It will be replaced by [5, 49].\n",
      "  warnings.warn(\n"
     ]
    },
    {
     "name": "stdout",
     "output_type": "stream",
     "text": [
      "[I 2025-01-04 04:34:00,240] Trial 40 finished with value: 0.8768529076396808 and parameters: {'svm_c': 9.932632682867297, 'svm_kernel': 'linear', 'svm_gamma': 0.00010736896820641935, 'rf_n_estimators': 295, 'rf_max_depth': 41, 'rf_max_features': 'log2', 'rf_min_samples_split': 6, 'rf_min_samples_leaf': 3, 'rf_max_leaf_nodes': 296, 'rf_max_samples': 0.33556855878466324, 'lr_c': 2.871188335123587}. Best is trial 39 with value: 0.8779931584948688.\n"
     ]
    },
    {
     "name": "stderr",
     "output_type": "stream",
     "text": [
      "c:\\Users\\Sina\\Documents\\University\\CS412\\Proj\\.venv\\Lib\\site-packages\\optuna\\distributions.py:708: UserWarning: The distribution is specified by [5, 50] and step=2, but the range is not divisible by `step`. It will be replaced by [5, 49].\n",
      "  warnings.warn(\n"
     ]
    },
    {
     "name": "stdout",
     "output_type": "stream",
     "text": [
      "[I 2025-01-04 04:55:00,884] Trial 41 finished with value: 0.8775370581527936 and parameters: {'svm_c': 7.319538134726551, 'svm_kernel': 'linear', 'svm_gamma': 0.00010821088214441932, 'rf_n_estimators': 291, 'rf_max_depth': 45, 'rf_max_features': 'log2', 'rf_min_samples_split': 7, 'rf_min_samples_leaf': 3, 'rf_max_leaf_nodes': 256, 'rf_max_samples': 0.3195548847773305, 'lr_c': 3.111258448308557}. Best is trial 39 with value: 0.8779931584948688.\n"
     ]
    },
    {
     "name": "stderr",
     "output_type": "stream",
     "text": [
      "c:\\Users\\Sina\\Documents\\University\\CS412\\Proj\\.venv\\Lib\\site-packages\\optuna\\distributions.py:708: UserWarning: The distribution is specified by [5, 50] and step=2, but the range is not divisible by `step`. It will be replaced by [5, 49].\n",
      "  warnings.warn(\n"
     ]
    },
    {
     "name": "stdout",
     "output_type": "stream",
     "text": [
      "[I 2025-01-04 04:57:16,042] Trial 42 finished with value: 0.8759407069555302 and parameters: {'svm_c': 9.960864178508015, 'svm_kernel': 'linear', 'svm_gamma': 0.00011292993426155484, 'rf_n_estimators': 264, 'rf_max_depth': 21, 'rf_max_features': 'log2', 'rf_min_samples_split': 7, 'rf_min_samples_leaf': 3, 'rf_max_leaf_nodes': 252, 'rf_max_samples': 0.32291723041300424, 'lr_c': 3.0697051780157993}. Best is trial 39 with value: 0.8779931584948688.\n"
     ]
    },
    {
     "name": "stderr",
     "output_type": "stream",
     "text": [
      "c:\\Users\\Sina\\Documents\\University\\CS412\\Proj\\.venv\\Lib\\site-packages\\optuna\\distributions.py:708: UserWarning: The distribution is specified by [5, 50] and step=2, but the range is not divisible by `step`. It will be replaced by [5, 49].\n",
      "  warnings.warn(\n"
     ]
    },
    {
     "name": "stdout",
     "output_type": "stream",
     "text": [
      "[I 2025-01-04 05:08:56,880] Trial 44 finished with value: 0.7979475484606613 and parameters: {'svm_c': 5.784936753651433, 'svm_kernel': 'rbf', 'svm_gamma': 0.0002188614635735542, 'rf_n_estimators': 262, 'rf_max_depth': 41, 'rf_max_features': 'log2', 'rf_min_samples_split': 7, 'rf_min_samples_leaf': 3, 'rf_max_leaf_nodes': 252, 'rf_max_samples': 0.34376306897055553, 'lr_c': 2.9056009566756176}. Best is trial 39 with value: 0.8779931584948688.\n"
     ]
    },
    {
     "name": "stderr",
     "output_type": "stream",
     "text": [
      "c:\\Users\\Sina\\Documents\\University\\CS412\\Proj\\.venv\\Lib\\site-packages\\optuna\\distributions.py:708: UserWarning: The distribution is specified by [5, 50] and step=2, but the range is not divisible by `step`. It will be replaced by [5, 49].\n",
      "  warnings.warn(\n"
     ]
    },
    {
     "name": "stdout",
     "output_type": "stream",
     "text": [
      "[I 2025-01-04 05:16:43,318] Trial 43 finished with value: 0.8761687571265678 and parameters: {'svm_c': 5.130326638535789, 'svm_kernel': 'linear', 'svm_gamma': 0.0001709955698925241, 'rf_n_estimators': 268, 'rf_max_depth': 21, 'rf_max_features': 'log2', 'rf_min_samples_split': 7, 'rf_min_samples_leaf': 3, 'rf_max_leaf_nodes': 250, 'rf_max_samples': 0.5525938475118095, 'lr_c': 2.782208379322989}. Best is trial 39 with value: 0.8779931584948688.\n"
     ]
    },
    {
     "name": "stderr",
     "output_type": "stream",
     "text": [
      "c:\\Users\\Sina\\Documents\\University\\CS412\\Proj\\.venv\\Lib\\site-packages\\optuna\\distributions.py:708: UserWarning: The distribution is specified by [5, 50] and step=2, but the range is not divisible by `step`. It will be replaced by [5, 49].\n",
      "  warnings.warn(\n"
     ]
    },
    {
     "name": "stdout",
     "output_type": "stream",
     "text": [
      "[I 2025-01-04 05:17:35,865] Trial 45 finished with value: 0.7049030786773091 and parameters: {'svm_c': 4.352174350366948, 'svm_kernel': 'rbf', 'svm_gamma': 0.0002016938701419087, 'rf_n_estimators': 275, 'rf_max_depth': 21, 'rf_max_features': 'log2', 'rf_min_samples_split': 7, 'rf_min_samples_leaf': 5, 'rf_max_leaf_nodes': 255, 'rf_max_samples': 0.5773139609543347, 'lr_c': 0.1542002940711344}. Best is trial 39 with value: 0.8779931584948688.\n"
     ]
    },
    {
     "name": "stderr",
     "output_type": "stream",
     "text": [
      "c:\\Users\\Sina\\Documents\\University\\CS412\\Proj\\.venv\\Lib\\site-packages\\optuna\\distributions.py:708: UserWarning: The distribution is specified by [5, 50] and step=2, but the range is not divisible by `step`. It will be replaced by [5, 49].\n",
      "  warnings.warn(\n"
     ]
    },
    {
     "name": "stdout",
     "output_type": "stream",
     "text": [
      "[I 2025-01-04 05:37:37,114] Trial 46 finished with value: 0.8695553021664766 and parameters: {'svm_c': 4.679318193240451, 'svm_kernel': 'rbf', 'svm_gamma': 0.22651139276996599, 'rf_n_estimators': 264, 'rf_max_depth': 21, 'rf_max_features': 'sqrt', 'rf_min_samples_split': 7, 'rf_min_samples_leaf': 5, 'rf_max_leaf_nodes': 255, 'rf_max_samples': 0.3650270335259944, 'lr_c': 4.638459909705737}. Best is trial 39 with value: 0.8779931584948688.\n"
     ]
    },
    {
     "name": "stderr",
     "output_type": "stream",
     "text": [
      "c:\\Users\\Sina\\Documents\\University\\CS412\\Proj\\.venv\\Lib\\site-packages\\optuna\\distributions.py:708: UserWarning: The distribution is specified by [5, 50] and step=2, but the range is not divisible by `step`. It will be replaced by [5, 49].\n",
      "  warnings.warn(\n"
     ]
    },
    {
     "name": "stdout",
     "output_type": "stream",
     "text": [
      "[I 2025-01-04 05:55:33,836] Trial 47 finished with value: 0.8624857468643101 and parameters: {'svm_c': 4.917546835307395, 'svm_kernel': 'rbf', 'svm_gamma': 0.1917929951542821, 'rf_n_estimators': 265, 'rf_max_depth': 21, 'rf_max_features': 'log2', 'rf_min_samples_split': 6, 'rf_min_samples_leaf': 5, 'rf_max_leaf_nodes': 249, 'rf_max_samples': 0.3766314902050244, 'lr_c': 0.11945995737662114}. Best is trial 39 with value: 0.8779931584948688.\n"
     ]
    },
    {
     "name": "stderr",
     "output_type": "stream",
     "text": [
      "c:\\Users\\Sina\\Documents\\University\\CS412\\Proj\\.venv\\Lib\\site-packages\\optuna\\distributions.py:708: UserWarning: The distribution is specified by [5, 50] and step=2, but the range is not divisible by `step`. It will be replaced by [5, 49].\n",
      "  warnings.warn(\n"
     ]
    },
    {
     "name": "stdout",
     "output_type": "stream",
     "text": [
      "[I 2025-01-04 05:59:06,081] Trial 48 finished with value: 0.8697833523375144 and parameters: {'svm_c': 4.697319683915631, 'svm_kernel': 'rbf', 'svm_gamma': 0.24269677663406, 'rf_n_estimators': 263, 'rf_max_depth': 41, 'rf_max_features': 'sqrt', 'rf_min_samples_split': 6, 'rf_min_samples_leaf': 5, 'rf_max_leaf_nodes': 247, 'rf_max_samples': 0.5768771943693601, 'lr_c': 0.10875973384432747}. Best is trial 39 with value: 0.8779931584948688.\n"
     ]
    },
    {
     "name": "stderr",
     "output_type": "stream",
     "text": [
      "c:\\Users\\Sina\\Documents\\University\\CS412\\Proj\\.venv\\Lib\\site-packages\\optuna\\distributions.py:708: UserWarning: The distribution is specified by [5, 50] and step=2, but the range is not divisible by `step`. It will be replaced by [5, 49].\n",
      "  warnings.warn(\n"
     ]
    },
    {
     "name": "stdout",
     "output_type": "stream",
     "text": [
      "[I 2025-01-04 06:18:49,745] Trial 49 finished with value: 0.8638540478905359 and parameters: {'svm_c': 4.646360362386556, 'svm_kernel': 'rbf', 'svm_gamma': 0.19238280380848596, 'rf_n_estimators': 267, 'rf_max_depth': 21, 'rf_max_features': 'log2', 'rf_min_samples_split': 6, 'rf_min_samples_leaf': 5, 'rf_max_leaf_nodes': 249, 'rf_max_samples': 0.5629593241481249, 'lr_c': 3.802863073629291}. Best is trial 39 with value: 0.8779931584948688.\n"
     ]
    },
    {
     "name": "stderr",
     "output_type": "stream",
     "text": [
      "c:\\Users\\Sina\\Documents\\University\\CS412\\Proj\\.venv\\Lib\\site-packages\\optuna\\distributions.py:708: UserWarning: The distribution is specified by [5, 50] and step=2, but the range is not divisible by `step`. It will be replaced by [5, 49].\n",
      "  warnings.warn(\n"
     ]
    },
    {
     "name": "stdout",
     "output_type": "stream",
     "text": [
      "[I 2025-01-04 06:28:31,257] Trial 51 finished with value: 0.8077537058152794 and parameters: {'svm_c': 4.879168638340227, 'svm_kernel': 'rbf', 'svm_gamma': 0.0002307203520158683, 'rf_n_estimators': 269, 'rf_max_depth': 41, 'rf_max_features': 'log2', 'rf_min_samples_split': 6, 'rf_min_samples_leaf': 5, 'rf_max_leaf_nodes': 250, 'rf_max_samples': 0.38258406816478807, 'lr_c': 3.7998242581681376}. Best is trial 39 with value: 0.8779931584948688.\n"
     ]
    },
    {
     "name": "stderr",
     "output_type": "stream",
     "text": [
      "c:\\Users\\Sina\\Documents\\University\\CS412\\Proj\\.venv\\Lib\\site-packages\\optuna\\distributions.py:708: UserWarning: The distribution is specified by [5, 50] and step=2, but the range is not divisible by `step`. It will be replaced by [5, 49].\n",
      "  warnings.warn(\n"
     ]
    },
    {
     "name": "stdout",
     "output_type": "stream",
     "text": [
      "[I 2025-01-04 06:36:23,696] Trial 52 finished with value: 0.7908779931584949 and parameters: {'svm_c': 4.881542246943675, 'svm_kernel': 'rbf', 'svm_gamma': 0.00022799003983497892, 'rf_n_estimators': 273, 'rf_max_depth': 41, 'rf_max_features': 'log2', 'rf_min_samples_split': 6, 'rf_min_samples_leaf': 5, 'rf_max_leaf_nodes': 256, 'rf_max_samples': 0.38321705973576614, 'lr_c': 2.6747569226738808}. Best is trial 39 with value: 0.8779931584948688.\n"
     ]
    },
    {
     "name": "stderr",
     "output_type": "stream",
     "text": [
      "c:\\Users\\Sina\\Documents\\University\\CS412\\Proj\\.venv\\Lib\\site-packages\\optuna\\distributions.py:708: UserWarning: The distribution is specified by [5, 50] and step=2, but the range is not divisible by `step`. It will be replaced by [5, 49].\n",
      "  warnings.warn(\n"
     ]
    },
    {
     "name": "stdout",
     "output_type": "stream",
     "text": [
      "[I 2025-01-04 06:36:23,977] Trial 50 finished with value: 0.8684150513112885 and parameters: {'svm_c': 5.190095209555521, 'svm_kernel': 'rbf', 'svm_gamma': 0.19842068604056962, 'rf_n_estimators': 273, 'rf_max_depth': 41, 'rf_max_features': 'log2', 'rf_min_samples_split': 6, 'rf_min_samples_leaf': 5, 'rf_max_leaf_nodes': 255, 'rf_max_samples': 0.3737988188282777, 'lr_c': 4.111649065397922}. Best is trial 39 with value: 0.8779931584948688.\n"
     ]
    },
    {
     "name": "stderr",
     "output_type": "stream",
     "text": [
      "c:\\Users\\Sina\\Documents\\University\\CS412\\Proj\\.venv\\Lib\\site-packages\\optuna\\distributions.py:708: UserWarning: The distribution is specified by [5, 50] and step=2, but the range is not divisible by `step`. It will be replaced by [5, 49].\n",
      "  warnings.warn(\n"
     ]
    },
    {
     "name": "stdout",
     "output_type": "stream",
     "text": [
      "[I 2025-01-04 06:43:01,023] Trial 53 finished with value: 0.7961231470923603 and parameters: {'svm_c': 4.276860665136129, 'svm_kernel': 'rbf', 'svm_gamma': 0.0009779860841667477, 'rf_n_estimators': 278, 'rf_max_depth': 37, 'rf_max_features': 'log2', 'rf_min_samples_split': 6, 'rf_min_samples_leaf': 5, 'rf_max_leaf_nodes': 247, 'rf_max_samples': 0.3884274650811622, 'lr_c': 2.85686765198321}. Best is trial 39 with value: 0.8779931584948688.\n"
     ]
    },
    {
     "name": "stderr",
     "output_type": "stream",
     "text": [
      "c:\\Users\\Sina\\Documents\\University\\CS412\\Proj\\.venv\\Lib\\site-packages\\optuna\\distributions.py:708: UserWarning: The distribution is specified by [5, 50] and step=2, but the range is not divisible by `step`. It will be replaced by [5, 49].\n",
      "  warnings.warn(\n"
     ]
    },
    {
     "name": "stdout",
     "output_type": "stream",
     "text": [
      "[I 2025-01-04 06:47:16,184] Trial 54 finished with value: 0.8205245153933867 and parameters: {'svm_c': 4.227121846483024, 'svm_kernel': 'rbf', 'svm_gamma': 0.000990775168824042, 'rf_n_estimators': 230, 'rf_max_depth': 37, 'rf_max_features': 'log2', 'rf_min_samples_split': 6, 'rf_min_samples_leaf': 5, 'rf_max_leaf_nodes': 131, 'rf_max_samples': 0.22415071311094023, 'lr_c': 5.3651551857553015}. Best is trial 39 with value: 0.8779931584948688.\n"
     ]
    },
    {
     "name": "stderr",
     "output_type": "stream",
     "text": [
      "c:\\Users\\Sina\\Documents\\University\\CS412\\Proj\\.venv\\Lib\\site-packages\\optuna\\distributions.py:708: UserWarning: The distribution is specified by [5, 50] and step=2, but the range is not divisible by `step`. It will be replaced by [5, 49].\n",
      "  warnings.warn(\n"
     ]
    },
    {
     "name": "stdout",
     "output_type": "stream",
     "text": [
      "[I 2025-01-04 07:07:24,425] Trial 55 finished with value: 0.8743443557582669 and parameters: {'svm_c': 4.199091756462259, 'svm_kernel': 'linear', 'svm_gamma': 0.0009119944288860304, 'rf_n_estimators': 225, 'rf_max_depth': 37, 'rf_max_features': 'log2', 'rf_min_samples_split': 6, 'rf_min_samples_leaf': 6, 'rf_max_leaf_nodes': 126, 'rf_max_samples': 0.21335477785073148, 'lr_c': 5.001172049842021}. Best is trial 39 with value: 0.8779931584948688.\n"
     ]
    },
    {
     "name": "stderr",
     "output_type": "stream",
     "text": [
      "c:\\Users\\Sina\\Documents\\University\\CS412\\Proj\\.venv\\Lib\\site-packages\\optuna\\distributions.py:708: UserWarning: The distribution is specified by [5, 50] and step=2, but the range is not divisible by `step`. It will be replaced by [5, 49].\n",
      "  warnings.warn(\n"
     ]
    },
    {
     "name": "stdout",
     "output_type": "stream",
     "text": [
      "[I 2025-01-04 07:20:52,244] Trial 56 finished with value: 0.8645381984036489 and parameters: {'svm_c': 2.158211912222401, 'svm_kernel': 'linear', 'svm_gamma': 0.0009012963307384434, 'rf_n_estimators': 229, 'rf_max_depth': 37, 'rf_max_features': 'log2', 'rf_min_samples_split': 9, 'rf_min_samples_leaf': 6, 'rf_max_leaf_nodes': 236, 'rf_max_samples': 0.22401109647997444, 'lr_c': 1.449151465629005}. Best is trial 39 with value: 0.8779931584948688.\n"
     ]
    },
    {
     "name": "stderr",
     "output_type": "stream",
     "text": [
      "c:\\Users\\Sina\\Documents\\University\\CS412\\Proj\\.venv\\Lib\\site-packages\\optuna\\distributions.py:708: UserWarning: The distribution is specified by [5, 50] and step=2, but the range is not divisible by `step`. It will be replaced by [5, 49].\n",
      "  warnings.warn(\n"
     ]
    },
    {
     "name": "stdout",
     "output_type": "stream",
     "text": [
      "[I 2025-01-04 07:29:26,839] Trial 57 finished with value: 0.87115165336374 and parameters: {'svm_c': 2.6239679852219937, 'svm_kernel': 'linear', 'svm_gamma': 0.0009154367438312434, 'rf_n_estimators': 229, 'rf_max_depth': 35, 'rf_max_features': 'log2', 'rf_min_samples_split': 9, 'rf_min_samples_leaf': 6, 'rf_max_leaf_nodes': 232, 'rf_max_samples': 0.24387726979109314, 'lr_c': 1.2516510587351473}. Best is trial 39 with value: 0.8779931584948688.\n"
     ]
    },
    {
     "name": "stderr",
     "output_type": "stream",
     "text": [
      "c:\\Users\\Sina\\Documents\\University\\CS412\\Proj\\.venv\\Lib\\site-packages\\optuna\\distributions.py:708: UserWarning: The distribution is specified by [5, 50] and step=2, but the range is not divisible by `step`. It will be replaced by [5, 49].\n",
      "  warnings.warn(\n"
     ]
    },
    {
     "name": "stdout",
     "output_type": "stream",
     "text": [
      "[I 2025-01-04 07:47:20,412] Trial 58 finished with value: 0.8622576966932725 and parameters: {'svm_c': 2.057418626644743, 'svm_kernel': 'linear', 'svm_gamma': 0.0008967603749671212, 'rf_n_estimators': 230, 'rf_max_depth': 35, 'rf_max_features': 'log2', 'rf_min_samples_split': 9, 'rf_min_samples_leaf': 6, 'rf_max_leaf_nodes': 140, 'rf_max_samples': 0.2173122595125826, 'lr_c': 1.5515221388916742}. Best is trial 39 with value: 0.8779931584948688.\n"
     ]
    },
    {
     "name": "stderr",
     "output_type": "stream",
     "text": [
      "c:\\Users\\Sina\\Documents\\University\\CS412\\Proj\\.venv\\Lib\\site-packages\\optuna\\distributions.py:708: UserWarning: The distribution is specified by [5, 50] and step=2, but the range is not divisible by `step`. It will be replaced by [5, 49].\n",
      "  warnings.warn(\n"
     ]
    },
    {
     "name": "stdout",
     "output_type": "stream",
     "text": [
      "[I 2025-01-04 08:02:21,480] Trial 59 finished with value: 0.8599771949828963 and parameters: {'svm_c': 1.7892376502671987, 'svm_kernel': 'linear', 'svm_gamma': 0.00028616243200569415, 'rf_n_estimators': 228, 'rf_max_depth': 35, 'rf_max_features': 'log2', 'rf_min_samples_split': 9, 'rf_min_samples_leaf': 6, 'rf_max_leaf_nodes': 133, 'rf_max_samples': 0.2209654221713735, 'lr_c': 1.4949160116078475}. Best is trial 39 with value: 0.8779931584948688.\n"
     ]
    },
    {
     "name": "stderr",
     "output_type": "stream",
     "text": [
      "c:\\Users\\Sina\\Documents\\University\\CS412\\Proj\\.venv\\Lib\\site-packages\\optuna\\distributions.py:708: UserWarning: The distribution is specified by [5, 50] and step=2, but the range is not divisible by `step`. It will be replaced by [5, 49].\n",
      "  warnings.warn(\n"
     ]
    },
    {
     "name": "stdout",
     "output_type": "stream",
     "text": [
      "[I 2025-01-04 08:11:07,248] Trial 60 finished with value: 0.8761687571265678 and parameters: {'svm_c': 6.295066279214638, 'svm_kernel': 'linear', 'svm_gamma': 0.0009214771266324096, 'rf_n_estimators': 243, 'rf_max_depth': 37, 'rf_max_features': 'log2', 'rf_min_samples_split': 9, 'rf_min_samples_leaf': 6, 'rf_max_leaf_nodes': 123, 'rf_max_samples': 0.20743241921831032, 'lr_c': 2.023259799024464}. Best is trial 39 with value: 0.8779931584948688.\n"
     ]
    },
    {
     "name": "stderr",
     "output_type": "stream",
     "text": [
      "c:\\Users\\Sina\\Documents\\University\\CS412\\Proj\\.venv\\Lib\\site-packages\\optuna\\distributions.py:708: UserWarning: The distribution is specified by [5, 50] and step=2, but the range is not divisible by `step`. It will be replaced by [5, 49].\n",
      "  warnings.warn(\n"
     ]
    },
    {
     "name": "stdout",
     "output_type": "stream",
     "text": [
      "[I 2025-01-04 08:29:22,120] Trial 61 finished with value: 0.8618015963511974 and parameters: {'svm_c': 1.9272704054523442, 'svm_kernel': 'linear', 'svm_gamma': 0.0008290293965828912, 'rf_n_estimators': 234, 'rf_max_depth': 35, 'rf_max_features': 'log2', 'rf_min_samples_split': 9, 'rf_min_samples_leaf': 6, 'rf_max_leaf_nodes': 118, 'rf_max_samples': 0.19370962704636957, 'lr_c': 1.692186041096927}. Best is trial 39 with value: 0.8779931584948688.\n"
     ]
    },
    {
     "name": "stderr",
     "output_type": "stream",
     "text": [
      "c:\\Users\\Sina\\Documents\\University\\CS412\\Proj\\.venv\\Lib\\site-packages\\optuna\\distributions.py:708: UserWarning: The distribution is specified by [5, 50] and step=2, but the range is not divisible by `step`. It will be replaced by [5, 49].\n",
      "  warnings.warn(\n"
     ]
    },
    {
     "name": "stdout",
     "output_type": "stream",
     "text": [
      "[I 2025-01-04 08:33:39,756] Trial 62 finished with value: 0.867502850627138 and parameters: {'svm_c': 2.3125757328901697, 'svm_kernel': 'linear', 'svm_gamma': 0.000752609872117316, 'rf_n_estimators': 233, 'rf_max_depth': 35, 'rf_max_features': 'log2', 'rf_min_samples_split': 9, 'rf_min_samples_leaf': 6, 'rf_max_leaf_nodes': 129, 'rf_max_samples': 0.24499969764801863, 'lr_c': 1.7374574094651372}. Best is trial 39 with value: 0.8779931584948688.\n"
     ]
    },
    {
     "name": "stderr",
     "output_type": "stream",
     "text": [
      "c:\\Users\\Sina\\Documents\\University\\CS412\\Proj\\.venv\\Lib\\site-packages\\optuna\\distributions.py:708: UserWarning: The distribution is specified by [5, 50] and step=2, but the range is not divisible by `step`. It will be replaced by [5, 49].\n",
      "  warnings.warn(\n"
     ]
    },
    {
     "name": "stdout",
     "output_type": "stream",
     "text": [
      "[I 2025-01-04 09:05:59,795] Trial 63 finished with value: 0.8622576966932725 and parameters: {'svm_c': 1.9054512441536533, 'svm_kernel': 'linear', 'svm_gamma': 0.000662055515430099, 'rf_n_estimators': 232, 'rf_max_depth': 35, 'rf_max_features': 'log2', 'rf_min_samples_split': 9, 'rf_min_samples_leaf': 4, 'rf_max_leaf_nodes': 126, 'rf_max_samples': 0.22719241653125422, 'lr_c': 1.4700619630399405}. Best is trial 39 with value: 0.8779931584948688.\n"
     ]
    },
    {
     "name": "stderr",
     "output_type": "stream",
     "text": [
      "c:\\Users\\Sina\\Documents\\University\\CS412\\Proj\\.venv\\Lib\\site-packages\\optuna\\distributions.py:708: UserWarning: The distribution is specified by [5, 50] and step=2, but the range is not divisible by `step`. It will be replaced by [5, 49].\n",
      "  warnings.warn(\n"
     ]
    },
    {
     "name": "stdout",
     "output_type": "stream",
     "text": [
      "[I 2025-01-04 09:28:03,168] Trial 64 finished with value: 0.8725199543899658 and parameters: {'svm_c': 2.6684945064250765, 'svm_kernel': 'linear', 'svm_gamma': 0.008223016358677235, 'rf_n_estimators': 245, 'rf_max_depth': 45, 'rf_max_features': 'log2', 'rf_min_samples_split': 9, 'rf_min_samples_leaf': 4, 'rf_max_leaf_nodes': 92, 'rf_max_samples': 0.6611071474272475, 'lr_c': 1.8425551130190654}. Best is trial 39 with value: 0.8779931584948688.\n"
     ]
    },
    {
     "name": "stderr",
     "output_type": "stream",
     "text": [
      "c:\\Users\\Sina\\Documents\\University\\CS412\\Proj\\.venv\\Lib\\site-packages\\optuna\\distributions.py:708: UserWarning: The distribution is specified by [5, 50] and step=2, but the range is not divisible by `step`. It will be replaced by [5, 49].\n",
      "  warnings.warn(\n"
     ]
    },
    {
     "name": "stdout",
     "output_type": "stream",
     "text": [
      "[I 2025-01-04 09:42:55,669] Trial 65 finished with value: 0.8770809578107184 and parameters: {'svm_c': 6.664709602454767, 'svm_kernel': 'linear', 'svm_gamma': 0.0016844186768767194, 'rf_n_estimators': 246, 'rf_max_depth': 25, 'rf_max_features': 'log2', 'rf_min_samples_split': 9, 'rf_min_samples_leaf': 4, 'rf_max_leaf_nodes': 221, 'rf_max_samples': 0.5160816065774133, 'lr_c': 1.8889057906529088}. Best is trial 39 with value: 0.8779931584948688.\n"
     ]
    },
    {
     "name": "stderr",
     "output_type": "stream",
     "text": [
      "c:\\Users\\Sina\\Documents\\University\\CS412\\Proj\\.venv\\Lib\\site-packages\\optuna\\distributions.py:708: UserWarning: The distribution is specified by [5, 50] and step=2, but the range is not divisible by `step`. It will be replaced by [5, 49].\n",
      "  warnings.warn(\n"
     ]
    },
    {
     "name": "stdout",
     "output_type": "stream",
     "text": [
      "[I 2025-01-04 10:12:41,323] Trial 66 finished with value: 0.8770809578107184 and parameters: {'svm_c': 6.3785331522557, 'svm_kernel': 'linear', 'svm_gamma': 0.0003088688969163964, 'rf_n_estimators': 246, 'rf_max_depth': 45, 'rf_max_features': 'log2', 'rf_min_samples_split': 9, 'rf_min_samples_leaf': 4, 'rf_max_leaf_nodes': 219, 'rf_max_samples': 0.51022863859205, 'lr_c': 0.4400009422900342}. Best is trial 39 with value: 0.8779931584948688.\n"
     ]
    },
    {
     "name": "stderr",
     "output_type": "stream",
     "text": [
      "c:\\Users\\Sina\\Documents\\University\\CS412\\Proj\\.venv\\Lib\\site-packages\\optuna\\distributions.py:708: UserWarning: The distribution is specified by [5, 50] and step=2, but the range is not divisible by `step`. It will be replaced by [5, 49].\n",
      "  warnings.warn(\n"
     ]
    },
    {
     "name": "stdout",
     "output_type": "stream",
     "text": [
      "[I 2025-01-04 10:34:06,293] Trial 67 finished with value: 0.8586088939566705 and parameters: {'svm_c': 1.6689020792823404, 'svm_kernel': 'linear', 'svm_gamma': 0.0003014034512903032, 'rf_n_estimators': 286, 'rf_max_depth': 45, 'rf_max_features': 'log2', 'rf_min_samples_split': 8, 'rf_min_samples_leaf': 4, 'rf_max_leaf_nodes': 214, 'rf_max_samples': 0.6226378973957375, 'lr_c': 0.46245378828053874}. Best is trial 39 with value: 0.8779931584948688.\n"
     ]
    },
    {
     "name": "stderr",
     "output_type": "stream",
     "text": [
      "c:\\Users\\Sina\\Documents\\University\\CS412\\Proj\\.venv\\Lib\\site-packages\\optuna\\distributions.py:708: UserWarning: The distribution is specified by [5, 50] and step=2, but the range is not divisible by `step`. It will be replaced by [5, 49].\n",
      "  warnings.warn(\n"
     ]
    },
    {
     "name": "stdout",
     "output_type": "stream",
     "text": [
      "[I 2025-01-04 10:48:10,793] Trial 68 finished with value: 0.8775370581527936 and parameters: {'svm_c': 6.039248159840435, 'svm_kernel': 'linear', 'svm_gamma': 0.01256675631344053, 'rf_n_estimators': 248, 'rf_max_depth': 45, 'rf_max_features': 'log2', 'rf_min_samples_split': 8, 'rf_min_samples_leaf': 4, 'rf_max_leaf_nodes': 91, 'rf_max_samples': 0.630554162700065, 'lr_c': 0.5117802507779462}. Best is trial 39 with value: 0.8779931584948688.\n"
     ]
    },
    {
     "name": "stderr",
     "output_type": "stream",
     "text": [
      "c:\\Users\\Sina\\Documents\\University\\CS412\\Proj\\.venv\\Lib\\site-packages\\optuna\\distributions.py:708: UserWarning: The distribution is specified by [5, 50] and step=2, but the range is not divisible by `step`. It will be replaced by [5, 49].\n",
      "  warnings.warn(\n"
     ]
    },
    {
     "name": "stdout",
     "output_type": "stream",
     "text": [
      "[I 2025-01-04 11:06:54,411] Trial 69 finished with value: 0.8763968072976056 and parameters: {'svm_c': 6.393638040458184, 'svm_kernel': 'linear', 'svm_gamma': 0.007335856178986611, 'rf_n_estimators': 248, 'rf_max_depth': 45, 'rf_max_features': 'log2', 'rf_min_samples_split': 8, 'rf_min_samples_leaf': 4, 'rf_max_leaf_nodes': 94, 'rf_max_samples': 0.5318694155014232, 'lr_c': 0.5383364180711872}. Best is trial 39 with value: 0.8779931584948688.\n"
     ]
    },
    {
     "name": "stderr",
     "output_type": "stream",
     "text": [
      "c:\\Users\\Sina\\Documents\\University\\CS412\\Proj\\.venv\\Lib\\site-packages\\optuna\\distributions.py:708: UserWarning: The distribution is specified by [5, 50] and step=2, but the range is not divisible by `step`. It will be replaced by [5, 49].\n",
      "  warnings.warn(\n"
     ]
    },
    {
     "name": "stdout",
     "output_type": "stream",
     "text": [
      "[I 2025-01-04 11:09:51,407] Trial 70 finished with value: 0.8775370581527936 and parameters: {'svm_c': 6.355852736378394, 'svm_kernel': 'linear', 'svm_gamma': 0.0020698042993734607, 'rf_n_estimators': 249, 'rf_max_depth': 45, 'rf_max_features': 'log2', 'rf_min_samples_split': 8, 'rf_min_samples_leaf': 4, 'rf_max_leaf_nodes': 105, 'rf_max_samples': 0.6319566349760031, 'lr_c': 0.595708136874737}. Best is trial 39 with value: 0.8779931584948688.\n"
     ]
    },
    {
     "name": "stderr",
     "output_type": "stream",
     "text": [
      "c:\\Users\\Sina\\Documents\\University\\CS412\\Proj\\.venv\\Lib\\site-packages\\optuna\\distributions.py:708: UserWarning: The distribution is specified by [5, 50] and step=2, but the range is not divisible by `step`. It will be replaced by [5, 49].\n",
      "  warnings.warn(\n"
     ]
    },
    {
     "name": "stdout",
     "output_type": "stream",
     "text": [
      "[I 2025-01-04 11:26:14,775] Trial 72 finished with value: 0.7416191562143671 and parameters: {'svm_c': 6.422174046615604, 'svm_kernel': 'sigmoid', 'svm_gamma': 0.0003387315772643987, 'rf_n_estimators': 250, 'rf_max_depth': 45, 'rf_max_features': 'log2', 'rf_min_samples_split': 5, 'rf_min_samples_leaf': 4, 'rf_max_leaf_nodes': 101, 'rf_max_samples': 0.6832878204738037, 'lr_c': 0.6403226440877015}. Best is trial 39 with value: 0.8779931584948688.\n"
     ]
    },
    {
     "name": "stderr",
     "output_type": "stream",
     "text": [
      "c:\\Users\\Sina\\Documents\\University\\CS412\\Proj\\.venv\\Lib\\site-packages\\optuna\\distributions.py:708: UserWarning: The distribution is specified by [5, 50] and step=2, but the range is not divisible by `step`. It will be replaced by [5, 49].\n",
      "  warnings.warn(\n"
     ]
    },
    {
     "name": "stdout",
     "output_type": "stream",
     "text": [
      "[I 2025-01-04 11:29:04,631] Trial 71 finished with value: 0.8775370581527936 and parameters: {'svm_c': 7.121955508211757, 'svm_kernel': 'linear', 'svm_gamma': 0.0019141600594149953, 'rf_n_estimators': 249, 'rf_max_depth': 45, 'rf_max_features': 'log2', 'rf_min_samples_split': 8, 'rf_min_samples_leaf': 4, 'rf_max_leaf_nodes': 274, 'rf_max_samples': 0.511463642637216, 'lr_c': 0.6316780042395508}. Best is trial 39 with value: 0.8779931584948688.\n"
     ]
    },
    {
     "name": "stderr",
     "output_type": "stream",
     "text": [
      "c:\\Users\\Sina\\Documents\\University\\CS412\\Proj\\.venv\\Lib\\site-packages\\optuna\\distributions.py:708: UserWarning: The distribution is specified by [5, 50] and step=2, but the range is not divisible by `step`. It will be replaced by [5, 49].\n",
      "  warnings.warn(\n"
     ]
    },
    {
     "name": "stdout",
     "output_type": "stream",
     "text": [
      "[I 2025-01-04 11:34:25,835] Trial 73 finished with value: 0.7377423033067275 and parameters: {'svm_c': 6.075692715007398, 'svm_kernel': 'sigmoid', 'svm_gamma': 0.0002916526967464376, 'rf_n_estimators': 249, 'rf_max_depth': 45, 'rf_max_features': 'log2', 'rf_min_samples_split': 8, 'rf_min_samples_leaf': 4, 'rf_max_leaf_nodes': 95, 'rf_max_samples': 0.5094208499592742, 'lr_c': 0.6334942776007801}. Best is trial 39 with value: 0.8779931584948688.\n"
     ]
    },
    {
     "name": "stderr",
     "output_type": "stream",
     "text": [
      "c:\\Users\\Sina\\Documents\\University\\CS412\\Proj\\.venv\\Lib\\site-packages\\optuna\\distributions.py:708: UserWarning: The distribution is specified by [5, 50] and step=2, but the range is not divisible by `step`. It will be replaced by [5, 49].\n",
      "  warnings.warn(\n"
     ]
    },
    {
     "name": "stdout",
     "output_type": "stream",
     "text": [
      "[I 2025-01-04 11:50:04,764] Trial 74 finished with value: 0.876624857468643 and parameters: {'svm_c': 6.28700963697728, 'svm_kernel': 'linear', 'svm_gamma': 0.0018483383343525892, 'rf_n_estimators': 288, 'rf_max_depth': 27, 'rf_max_features': 'log2', 'rf_min_samples_split': 8, 'rf_min_samples_leaf': 4, 'rf_max_leaf_nodes': 277, 'rf_max_samples': 0.5235637746734975, 'lr_c': 0.6075046093188144}. Best is trial 39 with value: 0.8779931584948688.\n"
     ]
    },
    {
     "name": "stderr",
     "output_type": "stream",
     "text": [
      "c:\\Users\\Sina\\Documents\\University\\CS412\\Proj\\.venv\\Lib\\site-packages\\optuna\\distributions.py:708: UserWarning: The distribution is specified by [5, 50] and step=2, but the range is not divisible by `step`. It will be replaced by [5, 49].\n",
      "  warnings.warn(\n"
     ]
    },
    {
     "name": "stdout",
     "output_type": "stream",
     "text": [
      "[I 2025-01-04 11:51:43,546] Trial 75 finished with value: 0.7379703534777651 and parameters: {'svm_c': 6.6723643270415804, 'svm_kernel': 'sigmoid', 'svm_gamma': 0.0018423273197922029, 'rf_n_estimators': 288, 'rf_max_depth': 25, 'rf_max_features': 'log2', 'rf_min_samples_split': 8, 'rf_min_samples_leaf': 4, 'rf_max_leaf_nodes': 276, 'rf_max_samples': 0.5177361637203519, 'lr_c': 0.6594163569636592}. Best is trial 39 with value: 0.8779931584948688.\n"
     ]
    },
    {
     "name": "stderr",
     "output_type": "stream",
     "text": [
      "c:\\Users\\Sina\\Documents\\University\\CS412\\Proj\\.venv\\Lib\\site-packages\\optuna\\distributions.py:708: UserWarning: The distribution is specified by [5, 50] and step=2, but the range is not divisible by `step`. It will be replaced by [5, 49].\n",
      "  warnings.warn(\n"
     ]
    },
    {
     "name": "stdout",
     "output_type": "stream",
     "text": [
      "[I 2025-01-04 11:58:09,412] Trial 76 finished with value: 0.7397947548460662 and parameters: {'svm_c': 6.620813730876979, 'svm_kernel': 'sigmoid', 'svm_gamma': 0.0020347144258546007, 'rf_n_estimators': 288, 'rf_max_depth': 27, 'rf_max_features': 'log2', 'rf_min_samples_split': 8, 'rf_min_samples_leaf': 4, 'rf_max_leaf_nodes': 209, 'rf_max_samples': 0.5179200704672374, 'lr_c': 0.6821250101337517}. Best is trial 39 with value: 0.8779931584948688.\n"
     ]
    },
    {
     "name": "stderr",
     "output_type": "stream",
     "text": [
      "c:\\Users\\Sina\\Documents\\University\\CS412\\Proj\\.venv\\Lib\\site-packages\\optuna\\distributions.py:708: UserWarning: The distribution is specified by [5, 50] and step=2, but the range is not divisible by `step`. It will be replaced by [5, 49].\n",
      "  warnings.warn(\n"
     ]
    },
    {
     "name": "stdout",
     "output_type": "stream",
     "text": [
      "[I 2025-01-04 12:05:32,262] Trial 77 finished with value: 0.7377423033067275 and parameters: {'svm_c': 6.7538456281493495, 'svm_kernel': 'sigmoid', 'svm_gamma': 0.0022931765652830396, 'rf_n_estimators': 286, 'rf_max_depth': 27, 'rf_max_features': 'log2', 'rf_min_samples_split': 8, 'rf_min_samples_leaf': 8, 'rf_max_leaf_nodes': 281, 'rf_max_samples': 0.5197194095363888, 'lr_c': 0.795997478220731}. Best is trial 39 with value: 0.8779931584948688.\n"
     ]
    },
    {
     "name": "stderr",
     "output_type": "stream",
     "text": [
      "c:\\Users\\Sina\\Documents\\University\\CS412\\Proj\\.venv\\Lib\\site-packages\\optuna\\distributions.py:708: UserWarning: The distribution is specified by [5, 50] and step=2, but the range is not divisible by `step`. It will be replaced by [5, 49].\n",
      "  warnings.warn(\n"
     ]
    },
    {
     "name": "stdout",
     "output_type": "stream",
     "text": [
      "[I 2025-01-04 12:09:47,695] Trial 78 finished with value: 0.7438996579247433 and parameters: {'svm_c': 3.570125715526969, 'svm_kernel': 'sigmoid', 'svm_gamma': 0.0017356870569043383, 'rf_n_estimators': 253, 'rf_max_depth': 27, 'rf_max_features': None, 'rf_min_samples_split': 11, 'rf_min_samples_leaf': 8, 'rf_max_leaf_nodes': 192, 'rf_max_samples': 0.5173095922453884, 'lr_c': 0.7307420554451921}. Best is trial 39 with value: 0.8779931584948688.\n"
     ]
    },
    {
     "name": "stderr",
     "output_type": "stream",
     "text": [
      "c:\\Users\\Sina\\Documents\\University\\CS412\\Proj\\.venv\\Lib\\site-packages\\optuna\\distributions.py:708: UserWarning: The distribution is specified by [5, 50] and step=2, but the range is not divisible by `step`. It will be replaced by [5, 49].\n",
      "  warnings.warn(\n"
     ]
    },
    {
     "name": "stdout",
     "output_type": "stream",
     "text": [
      "[I 2025-01-04 12:17:30,716] Trial 79 finished with value: 0.7477765108323833 and parameters: {'svm_c': 3.5274658043873277, 'svm_kernel': 'sigmoid', 'svm_gamma': 0.0018130258812425917, 'rf_n_estimators': 72, 'rf_max_depth': 25, 'rf_max_features': None, 'rf_min_samples_split': 11, 'rf_min_samples_leaf': 8, 'rf_max_leaf_nodes': 195, 'rf_max_samples': 0.5079951295102945, 'lr_c': 0.8249434013399486}. Best is trial 39 with value: 0.8779931584948688.\n"
     ]
    },
    {
     "name": "stderr",
     "output_type": "stream",
     "text": [
      "c:\\Users\\Sina\\Documents\\University\\CS412\\Proj\\.venv\\Lib\\site-packages\\optuna\\distributions.py:708: UserWarning: The distribution is specified by [5, 50] and step=2, but the range is not divisible by `step`. It will be replaced by [5, 49].\n",
      "  warnings.warn(\n"
     ]
    },
    {
     "name": "stdout",
     "output_type": "stream",
     "text": [
      "[I 2025-01-04 12:21:32,080] Trial 80 finished with value: 0.7206385404789053 and parameters: {'svm_c': 3.5900566490626242, 'svm_kernel': 'sigmoid', 'svm_gamma': 0.01828304093136595, 'rf_n_estimators': 211, 'rf_max_depth': 27, 'rf_max_features': 'log2', 'rf_min_samples_split': 8, 'rf_min_samples_leaf': 11, 'rf_max_leaf_nodes': 272, 'rf_max_samples': 0.5115359140434877, 'lr_c': 0.7901072107492568}. Best is trial 39 with value: 0.8779931584948688.\n"
     ]
    },
    {
     "name": "stderr",
     "output_type": "stream",
     "text": [
      "c:\\Users\\Sina\\Documents\\University\\CS412\\Proj\\.venv\\Lib\\site-packages\\optuna\\distributions.py:708: UserWarning: The distribution is specified by [5, 50] and step=2, but the range is not divisible by `step`. It will be replaced by [5, 49].\n",
      "  warnings.warn(\n"
     ]
    },
    {
     "name": "stdout",
     "output_type": "stream",
     "text": [
      "[I 2025-01-04 12:42:24,104] Trial 82 finished with value: 0.748460661345496 and parameters: {'svm_c': 3.518907734547981, 'svm_kernel': 'sigmoid', 'svm_gamma': 0.0019073594578952885, 'rf_n_estimators': 214, 'rf_max_depth': 43, 'rf_max_features': None, 'rf_min_samples_split': 11, 'rf_min_samples_leaf': 8, 'rf_max_leaf_nodes': 71, 'rf_max_samples': 0.7393042305769746, 'lr_c': 0.9346408470381865}. Best is trial 39 with value: 0.8779931584948688.\n"
     ]
    },
    {
     "name": "stderr",
     "output_type": "stream",
     "text": [
      "c:\\Users\\Sina\\Documents\\University\\CS412\\Proj\\.venv\\Lib\\site-packages\\optuna\\distributions.py:708: UserWarning: The distribution is specified by [5, 50] and step=2, but the range is not divisible by `step`. It will be replaced by [5, 49].\n",
      "  warnings.warn(\n"
     ]
    },
    {
     "name": "stdout",
     "output_type": "stream",
     "text": [
      "[I 2025-01-04 12:43:39,592] Trial 81 finished with value: 0.8706955530216648 and parameters: {'svm_c': 3.511918191232225, 'svm_kernel': 'linear', 'svm_gamma': 0.0025921471284990213, 'rf_n_estimators': 214, 'rf_max_depth': 27, 'rf_max_features': None, 'rf_min_samples_split': 11, 'rf_min_samples_leaf': 8, 'rf_max_leaf_nodes': 69, 'rf_max_samples': 0.7361116753136159, 'lr_c': 0.875768652979285}. Best is trial 39 with value: 0.8779931584948688.\n"
     ]
    },
    {
     "name": "stderr",
     "output_type": "stream",
     "text": [
      "c:\\Users\\Sina\\Documents\\University\\CS412\\Proj\\.venv\\Lib\\site-packages\\optuna\\distributions.py:708: UserWarning: The distribution is specified by [5, 50] and step=2, but the range is not divisible by `step`. It will be replaced by [5, 49].\n",
      "  warnings.warn(\n"
     ]
    },
    {
     "name": "stdout",
     "output_type": "stream",
     "text": [
      "[I 2025-01-04 12:49:50,911] Trial 83 finished with value: 0.7267958950969213 and parameters: {'svm_c': 7.325754470449711, 'svm_kernel': 'poly', 'svm_gamma': 0.0017589041952419694, 'rf_n_estimators': 102, 'rf_max_depth': 43, 'rf_max_features': None, 'rf_min_samples_split': 11, 'rf_min_samples_leaf': 8, 'rf_max_leaf_nodes': 196, 'rf_max_samples': 0.7170220644416803, 'lr_c': 0.4136864586464371}. Best is trial 39 with value: 0.8779931584948688.\n"
     ]
    },
    {
     "name": "stderr",
     "output_type": "stream",
     "text": [
      "c:\\Users\\Sina\\Documents\\University\\CS412\\Proj\\.venv\\Lib\\site-packages\\optuna\\distributions.py:708: UserWarning: The distribution is specified by [5, 50] and step=2, but the range is not divisible by `step`. It will be replaced by [5, 49].\n",
      "  warnings.warn(\n"
     ]
    },
    {
     "name": "stdout",
     "output_type": "stream",
     "text": [
      "[I 2025-01-04 12:57:32,725] Trial 84 finished with value: 0.6996579247434436 and parameters: {'svm_c': 3.470058095533405, 'svm_kernel': 'poly', 'svm_gamma': 0.014062227566998958, 'rf_n_estimators': 208, 'rf_max_depth': 43, 'rf_max_features': None, 'rf_min_samples_split': 11, 'rf_min_samples_leaf': 8, 'rf_max_leaf_nodes': 184, 'rf_max_samples': 0.7435803717658287, 'lr_c': 0.8309672531744728}. Best is trial 39 with value: 0.8779931584948688.\n"
     ]
    },
    {
     "name": "stderr",
     "output_type": "stream",
     "text": [
      "c:\\Users\\Sina\\Documents\\University\\CS412\\Proj\\.venv\\Lib\\site-packages\\optuna\\distributions.py:708: UserWarning: The distribution is specified by [5, 50] and step=2, but the range is not divisible by `step`. It will be replaced by [5, 49].\n",
      "  warnings.warn(\n"
     ]
    },
    {
     "name": "stdout",
     "output_type": "stream",
     "text": [
      "[I 2025-01-04 13:02:23,656] Trial 85 finished with value: 0.6554161915621436 and parameters: {'svm_c': 3.0507197848608185, 'svm_kernel': 'poly', 'svm_gamma': 0.019079645251002295, 'rf_n_estimators': 208, 'rf_max_depth': 43, 'rf_max_features': None, 'rf_min_samples_split': 11, 'rf_min_samples_leaf': 8, 'rf_max_leaf_nodes': 197, 'rf_max_samples': 0.726986659686574, 'lr_c': 0.40204130496514207}. Best is trial 39 with value: 0.8779931584948688.\n"
     ]
    },
    {
     "name": "stderr",
     "output_type": "stream",
     "text": [
      "c:\\Users\\Sina\\Documents\\University\\CS412\\Proj\\.venv\\Lib\\site-packages\\optuna\\distributions.py:708: UserWarning: The distribution is specified by [5, 50] and step=2, but the range is not divisible by `step`. It will be replaced by [5, 49].\n",
      "  warnings.warn(\n"
     ]
    },
    {
     "name": "stdout",
     "output_type": "stream",
     "text": [
      "[I 2025-01-04 13:09:29,922] Trial 86 finished with value: 0.6795895096921323 and parameters: {'svm_c': 3.5690483769820776, 'svm_kernel': 'poly', 'svm_gamma': 0.019810415079653722, 'rf_n_estimators': 216, 'rf_max_depth': 43, 'rf_max_features': None, 'rf_min_samples_split': 10, 'rf_min_samples_leaf': 11, 'rf_max_leaf_nodes': 265, 'rf_max_samples': 0.41834432608824146, 'lr_c': 0.9381319018992873}. Best is trial 39 with value: 0.8779931584948688.\n"
     ]
    },
    {
     "name": "stderr",
     "output_type": "stream",
     "text": [
      "c:\\Users\\Sina\\Documents\\University\\CS412\\Proj\\.venv\\Lib\\site-packages\\optuna\\distributions.py:708: UserWarning: The distribution is specified by [5, 50] and step=2, but the range is not divisible by `step`. It will be replaced by [5, 49].\n",
      "  warnings.warn(\n"
     ]
    },
    {
     "name": "stdout",
     "output_type": "stream",
     "text": [
      "[I 2025-01-04 13:12:14,138] Trial 87 finished with value: 0.6093500570125427 and parameters: {'svm_c': 3.6142821541240036, 'svm_kernel': 'poly', 'svm_gamma': 0.013524344699334586, 'rf_n_estimators': 217, 'rf_max_depth': 47, 'rf_max_features': None, 'rf_min_samples_split': 12, 'rf_min_samples_leaf': 11, 'rf_max_leaf_nodes': 10, 'rf_max_samples': 0.7552245119005205, 'lr_c': 0.9226998582701926}. Best is trial 39 with value: 0.8779931584948688.\n"
     ]
    },
    {
     "name": "stderr",
     "output_type": "stream",
     "text": [
      "c:\\Users\\Sina\\Documents\\University\\CS412\\Proj\\.venv\\Lib\\site-packages\\optuna\\distributions.py:708: UserWarning: The distribution is specified by [5, 50] and step=2, but the range is not divisible by `step`. It will be replaced by [5, 49].\n",
      "  warnings.warn(\n"
     ]
    },
    {
     "name": "stdout",
     "output_type": "stream",
     "text": [
      "[I 2025-01-04 13:19:46,597] Trial 88 finished with value: 0.627594070695553 and parameters: {'svm_c': 3.5097040992577164, 'svm_kernel': 'poly', 'svm_gamma': 0.015479997672140065, 'rf_n_estimators': 212, 'rf_max_depth': 43, 'rf_max_features': None, 'rf_min_samples_split': 12, 'rf_min_samples_leaf': 11, 'rf_max_leaf_nodes': 267, 'rf_max_samples': 0.6120763059060688, 'lr_c': 0.37940899714362086}. Best is trial 39 with value: 0.8779931584948688.\n"
     ]
    },
    {
     "name": "stderr",
     "output_type": "stream",
     "text": [
      "c:\\Users\\Sina\\Documents\\University\\CS412\\Proj\\.venv\\Lib\\site-packages\\optuna\\distributions.py:708: UserWarning: The distribution is specified by [5, 50] and step=2, but the range is not divisible by `step`. It will be replaced by [5, 49].\n",
      "  warnings.warn(\n"
     ]
    },
    {
     "name": "stdout",
     "output_type": "stream",
     "text": [
      "[I 2025-01-04 13:26:48,837] Trial 89 finished with value: 0.6424173318129988 and parameters: {'svm_c': 8.446757728932194, 'svm_kernel': 'poly', 'svm_gamma': 0.03027402435593908, 'rf_n_estimators': 210, 'rf_max_depth': 43, 'rf_max_features': 'log2', 'rf_min_samples_split': 12, 'rf_min_samples_leaf': 7, 'rf_max_leaf_nodes': 73, 'rf_max_samples': 0.7703391152319229, 'lr_c': 0.3932537827945339}. Best is trial 39 with value: 0.8779931584948688.\n"
     ]
    },
    {
     "name": "stderr",
     "output_type": "stream",
     "text": [
      "c:\\Users\\Sina\\Documents\\University\\CS412\\Proj\\.venv\\Lib\\site-packages\\optuna\\distributions.py:708: UserWarning: The distribution is specified by [5, 50] and step=2, but the range is not divisible by `step`. It will be replaced by [5, 49].\n",
      "  warnings.warn(\n"
     ]
    },
    {
     "name": "stdout",
     "output_type": "stream",
     "text": [
      "[I 2025-01-04 13:27:37,726] Trial 90 finished with value: 0.5393386545039909 and parameters: {'svm_c': 8.42879831212953, 'svm_kernel': 'poly', 'svm_gamma': 0.00554667462291249, 'rf_n_estimators': 166, 'rf_max_depth': 43, 'rf_max_features': 'log2', 'rf_min_samples_split': 10, 'rf_min_samples_leaf': 3, 'rf_max_leaf_nodes': 68, 'rf_max_samples': 0.7363018030497489, 'lr_c': 0.36465439114511766}. Best is trial 39 with value: 0.8779931584948688.\n"
     ]
    },
    {
     "name": "stderr",
     "output_type": "stream",
     "text": [
      "c:\\Users\\Sina\\Documents\\University\\CS412\\Proj\\.venv\\Lib\\site-packages\\optuna\\distributions.py:708: UserWarning: The distribution is specified by [5, 50] and step=2, but the range is not divisible by `step`. It will be replaced by [5, 49].\n",
      "  warnings.warn(\n"
     ]
    },
    {
     "name": "stdout",
     "output_type": "stream",
     "text": [
      "[I 2025-01-04 13:34:18,575] Trial 91 finished with value: 0.4818700114025086 and parameters: {'svm_c': 8.48640518691223, 'svm_kernel': 'poly', 'svm_gamma': 0.003933068294230266, 'rf_n_estimators': 170, 'rf_max_depth': 47, 'rf_max_features': 'log2', 'rf_min_samples_split': 10, 'rf_min_samples_leaf': 19, 'rf_max_leaf_nodes': 265, 'rf_max_samples': 0.42334618131491775, 'lr_c': 0.36350009862130783}. Best is trial 39 with value: 0.8779931584948688.\n"
     ]
    },
    {
     "name": "stderr",
     "output_type": "stream",
     "text": [
      "c:\\Users\\Sina\\Documents\\University\\CS412\\Proj\\.venv\\Lib\\site-packages\\optuna\\distributions.py:708: UserWarning: The distribution is specified by [5, 50] and step=2, but the range is not divisible by `step`. It will be replaced by [5, 49].\n",
      "  warnings.warn(\n"
     ]
    },
    {
     "name": "stdout",
     "output_type": "stream",
     "text": [
      "[I 2025-01-04 13:40:10,950] Trial 92 finished with value: 0.5646522234891675 and parameters: {'svm_c': 8.591506066540166, 'svm_kernel': 'poly', 'svm_gamma': 0.004008721216861627, 'rf_n_estimators': 255, 'rf_max_depth': 47, 'rf_max_features': 'log2', 'rf_min_samples_split': 10, 'rf_min_samples_leaf': 3, 'rf_max_leaf_nodes': 266, 'rf_max_samples': 0.4315489102108514, 'lr_c': 0.3651012786236454}. Best is trial 39 with value: 0.8779931584948688.\n"
     ]
    },
    {
     "name": "stderr",
     "output_type": "stream",
     "text": [
      "c:\\Users\\Sina\\Documents\\University\\CS412\\Proj\\.venv\\Lib\\site-packages\\optuna\\distributions.py:708: UserWarning: The distribution is specified by [5, 50] and step=2, but the range is not divisible by `step`. It will be replaced by [5, 49].\n",
      "  warnings.warn(\n"
     ]
    },
    {
     "name": "stdout",
     "output_type": "stream",
     "text": [
      "[I 2025-01-04 13:56:52,703] Trial 93 finished with value: 0.874116305587229 and parameters: {'svm_c': 8.613583254638508, 'svm_kernel': 'linear', 'svm_gamma': 0.0005615352664077986, 'rf_n_estimators': 300, 'rf_max_depth': 47, 'rf_max_features': 'log2', 'rf_min_samples_split': 10, 'rf_min_samples_leaf': 3, 'rf_max_leaf_nodes': 16, 'rf_max_samples': 0.4211968914026149, 'lr_c': 0.28362469562926446}. Best is trial 39 with value: 0.8779931584948688.\n"
     ]
    },
    {
     "name": "stderr",
     "output_type": "stream",
     "text": [
      "c:\\Users\\Sina\\Documents\\University\\CS412\\Proj\\.venv\\Lib\\site-packages\\optuna\\distributions.py:708: UserWarning: The distribution is specified by [5, 50] and step=2, but the range is not divisible by `step`. It will be replaced by [5, 49].\n",
      "  warnings.warn(\n"
     ]
    },
    {
     "name": "stdout",
     "output_type": "stream",
     "text": [
      "[I 2025-01-04 14:18:00,962] Trial 94 finished with value: 0.8759407069555302 and parameters: {'svm_c': 8.05819136958268, 'svm_kernel': 'linear', 'svm_gamma': 0.004992135304324822, 'rf_n_estimators': 300, 'rf_max_depth': 47, 'rf_max_features': 'log2', 'rf_min_samples_split': 10, 'rf_min_samples_leaf': 3, 'rf_max_leaf_nodes': 265, 'rf_max_samples': 0.42748647537548967, 'lr_c': 0.20720586716241896}. Best is trial 39 with value: 0.8779931584948688.\n"
     ]
    },
    {
     "name": "stderr",
     "output_type": "stream",
     "text": [
      "c:\\Users\\Sina\\Documents\\University\\CS412\\Proj\\.venv\\Lib\\site-packages\\optuna\\distributions.py:708: UserWarning: The distribution is specified by [5, 50] and step=2, but the range is not divisible by `step`. It will be replaced by [5, 49].\n",
      "  warnings.warn(\n"
     ]
    },
    {
     "name": "stdout",
     "output_type": "stream",
     "text": [
      "[I 2025-01-04 14:19:24,984] Trial 95 finished with value: 0.8763968072976056 and parameters: {'svm_c': 8.454417926751379, 'svm_kernel': 'linear', 'svm_gamma': 0.004815833161229596, 'rf_n_estimators': 163, 'rf_max_depth': 47, 'rf_max_features': 'log2', 'rf_min_samples_split': 10, 'rf_min_samples_leaf': 3, 'rf_max_leaf_nodes': 263, 'rf_max_samples': 0.4211191210592167, 'lr_c': 0.23336195691039816}. Best is trial 39 with value: 0.8779931584948688.\n"
     ]
    },
    {
     "name": "stderr",
     "output_type": "stream",
     "text": [
      "c:\\Users\\Sina\\Documents\\University\\CS412\\Proj\\.venv\\Lib\\site-packages\\optuna\\distributions.py:708: UserWarning: The distribution is specified by [5, 50] and step=2, but the range is not divisible by `step`. It will be replaced by [5, 49].\n",
      "  warnings.warn(\n"
     ]
    },
    {
     "name": "stdout",
     "output_type": "stream",
     "text": [
      "[I 2025-01-04 14:40:11,956] Trial 96 finished with value: 0.8763968072976056 and parameters: {'svm_c': 8.359827693767757, 'svm_kernel': 'linear', 'svm_gamma': 0.004812377462997527, 'rf_n_estimators': 169, 'rf_max_depth': 47, 'rf_max_features': 'log2', 'rf_min_samples_split': 14, 'rf_min_samples_leaf': 3, 'rf_max_leaf_nodes': 149, 'rf_max_samples': 0.6302516343178113, 'lr_c': 0.22399608429527168}. Best is trial 39 with value: 0.8779931584948688.\n"
     ]
    },
    {
     "name": "stderr",
     "output_type": "stream",
     "text": [
      "c:\\Users\\Sina\\Documents\\University\\CS412\\Proj\\.venv\\Lib\\site-packages\\optuna\\distributions.py:708: UserWarning: The distribution is specified by [5, 50] and step=2, but the range is not divisible by `step`. It will be replaced by [5, 49].\n",
      "  warnings.warn(\n"
     ]
    },
    {
     "name": "stdout",
     "output_type": "stream",
     "text": [
      "[I 2025-01-04 15:01:00,037] Trial 97 finished with value: 0.876624857468643 and parameters: {'svm_c': 8.412498586679478, 'svm_kernel': 'linear', 'svm_gamma': 0.0043281103407259046, 'rf_n_estimators': 257, 'rf_max_depth': 47, 'rf_max_features': 'log2', 'rf_min_samples_split': 10, 'rf_min_samples_leaf': 3, 'rf_max_leaf_nodes': 223, 'rf_max_samples': 0.6056399157855711, 'lr_c': 0.24181580251217513}. Best is trial 39 with value: 0.8779931584948688.\n"
     ]
    },
    {
     "name": "stderr",
     "output_type": "stream",
     "text": [
      "c:\\Users\\Sina\\Documents\\University\\CS412\\Proj\\.venv\\Lib\\site-packages\\optuna\\distributions.py:708: UserWarning: The distribution is specified by [5, 50] and step=2, but the range is not divisible by `step`. It will be replaced by [5, 49].\n",
      "  warnings.warn(\n"
     ]
    },
    {
     "name": "stdout",
     "output_type": "stream",
     "text": [
      "[I 2025-01-04 15:02:33,748] Trial 98 finished with value: 0.877309007981756 and parameters: {'svm_c': 8.576681964536599, 'svm_kernel': 'linear', 'svm_gamma': 0.04548989971343603, 'rf_n_estimators': 256, 'rf_max_depth': 47, 'rf_max_features': 'log2', 'rf_min_samples_split': 10, 'rf_min_samples_leaf': 3, 'rf_max_leaf_nodes': 239, 'rf_max_samples': 0.6437069471067404, 'lr_c': 0.2428409397959886}. Best is trial 39 with value: 0.8779931584948688.\n"
     ]
    },
    {
     "name": "stderr",
     "output_type": "stream",
     "text": [
      "c:\\Users\\Sina\\Documents\\University\\CS412\\Proj\\.venv\\Lib\\site-packages\\optuna\\distributions.py:708: UserWarning: The distribution is specified by [5, 50] and step=2, but the range is not divisible by `step`. It will be replaced by [5, 49].\n",
      "  warnings.warn(\n"
     ]
    },
    {
     "name": "stdout",
     "output_type": "stream",
     "text": [
      "[I 2025-01-04 15:23:31,065] Trial 99 finished with value: 0.8763968072976056 and parameters: {'svm_c': 8.828936627983152, 'svm_kernel': 'linear', 'svm_gamma': 0.004624115197042632, 'rf_n_estimators': 300, 'rf_max_depth': 47, 'rf_max_features': 'sqrt', 'rf_min_samples_split': 10, 'rf_min_samples_leaf': 3, 'rf_max_leaf_nodes': 149, 'rf_max_samples': 0.47748505840498784, 'lr_c': 0.23762575097909333}. Best is trial 39 with value: 0.8779931584948688.\n"
     ]
    },
    {
     "name": "stderr",
     "output_type": "stream",
     "text": [
      "c:\\Users\\Sina\\Documents\\University\\CS412\\Proj\\.venv\\Lib\\site-packages\\optuna\\distributions.py:708: UserWarning: The distribution is specified by [5, 50] and step=2, but the range is not divisible by `step`. It will be replaced by [5, 49].\n",
      "  warnings.warn(\n"
     ]
    },
    {
     "name": "stdout",
     "output_type": "stream",
     "text": [
      "[I 2025-01-04 15:28:47,465] Trial 100 finished with value: 0.8777651083238313 and parameters: {'svm_c': 9.931647923968308, 'svm_kernel': 'linear', 'svm_gamma': 0.00016822678761794815, 'rf_n_estimators': 295, 'rf_max_depth': 47, 'rf_max_features': 'log2', 'rf_min_samples_split': 15, 'rf_min_samples_leaf': 3, 'rf_max_leaf_nodes': 289, 'rf_max_samples': 0.6393437391710713, 'lr_c': 0.26279770453537515}. Best is trial 39 with value: 0.8779931584948688.\n",
      "[I 2025-01-04 15:45:56,258] Trial 101 finished with value: 0.8761687571265678 and parameters: {'svm_c': 9.90486322765207, 'svm_kernel': 'linear', 'svm_gamma': 0.05001891236811345, 'rf_n_estimators': 300, 'rf_max_depth': 47, 'rf_max_features': 'log2', 'rf_min_samples_split': 5, 'rf_min_samples_leaf': 3, 'rf_max_leaf_nodes': 287, 'rf_max_samples': 0.6499964129400649, 'lr_c': 0.23880173566137763}. Best is trial 39 with value: 0.8779931584948688.\n",
      "[I 2025-01-04 16:06:57,109] Trial 102 finished with value: 0.8775370581527936 and parameters: {'svm_c': 9.993180692317532, 'svm_kernel': 'linear', 'svm_gamma': 0.00014993558011212958, 'rf_n_estimators': 300, 'rf_max_depth': 39, 'rf_max_features': 'sqrt', 'rf_min_samples_split': 5, 'rf_min_samples_leaf': 3, 'rf_max_leaf_nodes': 300, 'rf_max_samples': 0.4634644531382796, 'lr_c': 0.28864158248199956}. Best is trial 39 with value: 0.8779931584948688.\n",
      "[I 2025-01-04 16:08:28,332] Trial 103 finished with value: 0.8757126567844926 and parameters: {'svm_c': 9.65209989297694, 'svm_kernel': 'linear', 'svm_gamma': 0.0012932407027227545, 'rf_n_estimators': 280, 'rf_max_depth': 39, 'rf_max_features': 'sqrt', 'rf_min_samples_split': 5, 'rf_min_samples_leaf': 3, 'rf_max_leaf_nodes': 288, 'rf_max_samples': 0.28284742850789957, 'lr_c': 0.2238740957675032}. Best is trial 39 with value: 0.8779931584948688.\n",
      "[I 2025-01-04 16:29:35,053] Trial 104 finished with value: 0.877309007981756 and parameters: {'svm_c': 5.575528017029638, 'svm_kernel': 'linear', 'svm_gamma': 0.00016864714890776702, 'rf_n_estimators': 280, 'rf_max_depth': 29, 'rf_max_features': 'sqrt', 'rf_min_samples_split': 5, 'rf_min_samples_leaf': 3, 'rf_max_leaf_nodes': 288, 'rf_max_samples': 0.4808808815015608, 'lr_c': 2.245070018347154}. Best is trial 39 with value: 0.8779931584948688.\n",
      "[I 2025-01-04 16:50:07,906] Trial 105 finished with value: 0.8761687571265678 and parameters: {'svm_c': 9.963839654930501, 'svm_kernel': 'linear', 'svm_gamma': 0.0001585767054697194, 'rf_n_estimators': 279, 'rf_max_depth': 39, 'rf_max_features': 'sqrt', 'rf_min_samples_split': 5, 'rf_min_samples_leaf': 15, 'rf_max_leaf_nodes': 288, 'rf_max_samples': 0.4666628024526352, 'lr_c': 6.007877402021939}. Best is trial 39 with value: 0.8779931584948688.\n",
      "[I 2025-01-04 16:52:02,630] Trial 106 finished with value: 0.8763968072976056 and parameters: {'svm_c': 9.97172257240732, 'svm_kernel': 'linear', 'svm_gamma': 0.00013025184684182107, 'rf_n_estimators': 278, 'rf_max_depth': 39, 'rf_max_features': 'sqrt', 'rf_min_samples_split': 5, 'rf_min_samples_leaf': 14, 'rf_max_leaf_nodes': 288, 'rf_max_samples': 0.47431962505082426, 'lr_c': 6.657136278418083}. Best is trial 39 with value: 0.8779931584948688.\n",
      "[I 2025-01-04 17:12:59,993] Trial 107 finished with value: 0.8775370581527936 and parameters: {'svm_c': 7.340192007576474, 'svm_kernel': 'linear', 'svm_gamma': 0.00014993414516628392, 'rf_n_estimators': 279, 'rf_max_depth': 39, 'rf_max_features': 'sqrt', 'rf_min_samples_split': 7, 'rf_min_samples_leaf': 4, 'rf_max_leaf_nodes': 286, 'rf_max_samples': 0.2843769239215022, 'lr_c': 7.272337185098284}. Best is trial 39 with value: 0.8779931584948688.\n",
      "[I 2025-01-04 17:16:59,912] Trial 108 finished with value: 0.8768529076396808 and parameters: {'svm_c': 7.378868139894427, 'svm_kernel': 'linear', 'svm_gamma': 0.057363276269678375, 'rf_n_estimators': 280, 'rf_max_depth': 39, 'rf_max_features': 'sqrt', 'rf_min_samples_split': 5, 'rf_min_samples_leaf': 4, 'rf_max_leaf_nodes': 240, 'rf_max_samples': 0.478211792519233, 'lr_c': 0.49193398752769035}. Best is trial 39 with value: 0.8779931584948688.\n",
      "[I 2025-01-04 17:23:35,399] Trial 109 finished with value: 0.8410490307867731 and parameters: {'svm_c': 0.7477230199798399, 'svm_kernel': 'linear', 'svm_gamma': 0.11643943540538247, 'rf_n_estimators': 279, 'rf_max_depth': 39, 'rf_max_features': 'log2', 'rf_min_samples_split': 5, 'rf_min_samples_leaf': 14, 'rf_max_leaf_nodes': 240, 'rf_max_samples': 0.658023512000512, 'lr_c': 6.301359530365682}. Best is trial 39 with value: 0.8779931584948688.\n",
      "Study saved to disk at: sqlite:///optuna_study.db\n",
      "Reloaded Study Best Params: {'svm_c': 9.96412445958313, 'svm_kernel': 'linear', 'svm_gamma': 0.0002067102119783412, 'rf_n_estimators': 300, 'rf_max_depth': 41, 'rf_max_features': 'log2', 'rf_min_samples_split': 7, 'rf_min_samples_leaf': 3, 'rf_max_leaf_nodes': 276, 'rf_max_samples': 0.30852097374093923, 'lr_c': 2.915193736936337}\n",
      "Best Parameters: {'svm_c': 9.96412445958313, 'svm_kernel': 'linear', 'svm_gamma': 0.0002067102119783412, 'rf_n_estimators': 300, 'rf_max_depth': 41, 'rf_max_features': 'log2', 'rf_min_samples_split': 7, 'rf_min_samples_leaf': 3, 'rf_max_leaf_nodes': 276, 'rf_max_samples': 0.30852097374093923, 'lr_c': 2.915193736936337}\n",
      "Final Cross-Validation Accuracy: 87.91%\n",
      "\n",
      "#@title Train Data\n",
      "Train Set Accuracy: 99.79%\n",
      "\n",
      "Classification Report on Train Set:\n",
      "\n",
      "                      precision    recall  f1-score   support\n",
      "\n",
      "                 art       1.00      0.99      1.00       306\n",
      "       entertainment       1.00      1.00      1.00       517\n",
      "             fashion       1.00      1.00      1.00       478\n",
      "                food       0.99      1.00      1.00       817\n",
      "              gaming       1.00      1.00      1.00        21\n",
      "health and lifestyle       1.00      1.00      1.00       803\n",
      "    mom and children       1.00      1.00      1.00       238\n",
      "              sports       1.00      1.00      1.00       181\n",
      "                tech       1.00      1.00      1.00       554\n",
      "              travel       1.00      1.00      1.00       470\n",
      "\n",
      "            accuracy                           1.00      4385\n",
      "           macro avg       1.00      1.00      1.00      4385\n",
      "        weighted avg       1.00      1.00      1.00      4385\n",
      "\n",
      "\n",
      "#@title Test Data\n",
      "Test Set Accuracy: 92.07%\n",
      "\n",
      "Classification Report on Test Set:\n",
      "\n",
      "                      precision    recall  f1-score   support\n",
      "\n",
      "                 art       0.89      0.82      0.85        76\n",
      "       entertainment       0.91      0.85      0.88       129\n",
      "             fashion       0.89      0.97      0.92       120\n",
      "                food       0.95      1.00      0.97       205\n",
      "              gaming       1.00      1.00      1.00         5\n",
      "health and lifestyle       0.88      0.91      0.89       201\n",
      "    mom and children       0.93      0.93      0.93        60\n",
      "              sports       1.00      0.82      0.90        45\n",
      "                tech       0.96      0.93      0.94       138\n",
      "              travel       0.95      0.92      0.94       118\n",
      "\n",
      "            accuracy                           0.92      1097\n",
      "           macro avg       0.93      0.91      0.92      1097\n",
      "        weighted avg       0.92      0.92      0.92      1097\n",
      "\n"
     ]
    },
    {
     "data": {
      "image/png": "[encoded data removed]",
      "text/plain": [
       "<Figure size 1000x800 with 2 Axes>"
      ]
     },
     "metadata": {},
     "output_type": "display_data"
    }
   ],
   "source": [
    "from sklearn.ensemble import RandomForestClassifier\n",
    "from sklearn.metrics import accuracy_score, classification_report, confusion_matrix\n",
    "from sklearn.svm import SVC\n",
    "from sklearn.linear_model import LogisticRegression\n",
    "from sklearn.ensemble import VotingClassifier\n",
    "from sklearn.model_selection import cross_val_score, StratifiedKFold\n",
    "import seaborn as sns\n",
    "import optuna\n",
    "import matplotlib.pyplot as plt\n",
    "\n",
    "# Optuna for hyperparameter tuning\n",
    "def objective(trial):\n",
    "    # Hyperparameters for Models\n",
    "    svm_c = trial.suggest_float('svm_c', 0.1, 10.0, log=True)\n",
    "    svm_kernel = trial.suggest_categorical('svm_kernel', ['linear', 'poly', 'rbf'])\n",
    "    svm_gamma = trial.suggest_float('svm_gamma', 0.0001, 1.0, log=True)  \n",
    "\n",
    "    rf_n_estimators = trial.suggest_int('rf_n_estimators', 10, 300)\n",
    "    rf_max_depth = trial.suggest_int('rf_max_depth', 5, 49, step=2)\n",
    "    rf_max_features = trial.suggest_categorical('rf_max_features', ['sqrt', 'log2', None])\n",
    "    rf_min_samples_split = trial.suggest_int('rf_min_samples_split', 5, 20)\n",
    "    rf_min_samples_leaf = trial.suggest_int('rf_min_samples_leaf', 3, 20)\n",
    "    rf_max_leaf_nodes = trial.suggest_int('rf_max_leaf_nodes', 10, 300)\n",
    "    rf_max_samples = trial.suggest_float('rf_max_samples', 0.1, 1.0)\n",
    "\n",
    "    lr_c = trial.suggest_float('lr_c', 0.01, 10.0, log=True)\n",
    "\n",
    "    # Define classifiers\n",
    "    svm_model = SVC(C=svm_c, \n",
    "                    kernel=svm_kernel, \n",
    "                    gamma=svm_gamma, \n",
    "                    probability=True, \n",
    "                    random_state=42, \n",
    "                    cache_size=4096)\n",
    "    \n",
    "    rf_model = RandomForestClassifier(n_estimators=rf_n_estimators, \n",
    "                                        max_depth=rf_max_depth, \n",
    "                                        max_features=rf_max_features,\n",
    "                                        min_samples_leaf=rf_min_samples_leaf,\n",
    "                                        min_samples_split=rf_min_samples_split,\n",
    "                                        max_leaf_nodes=rf_max_leaf_nodes,\n",
    "                                        max_samples=rf_max_samples,\n",
    "                                        n_jobs=8, \n",
    "                                        random_state=42)\n",
    "    \n",
    "    lr_model = LogisticRegression(C=lr_c, \n",
    "                                  max_iter=1000, \n",
    "                                  n_jobs=8, \n",
    "                                  random_state=42)\n",
    "\n",
    "    ensemble_model = VotingClassifier(\n",
    "        estimators=[('svm', svm_model), ('rf', rf_model), ('lr', lr_model)],\n",
    "        voting='soft'\n",
    "    )\n",
    "\n",
    "    # Stratified K-Fold Cross Validation\n",
    "    skf = StratifiedKFold(n_splits=5, shuffle=True, random_state=42)\n",
    "\n",
    "    scores = cross_val_score(ensemble_model, x_train, y_train, cv=skf, scoring='accuracy', n_jobs=8)\n",
    "    return scores.mean()\n",
    "\n",
    "# Setup the study\n",
    "storage_url = \"sqlite:///optuna_study.db\"  \n",
    "\n",
    "study = optuna.create_study(\n",
    "    study_name=\"class2\",   \n",
    "    storage=storage_url,       \n",
    "    direction=\"maximize\",       \n",
    "    load_if_exists=True         \n",
    ")\n",
    "\n",
    "# Run the optimization\n",
    "study.optimize(objective, n_trials=1, show_progress_bar=True, n_jobs=10)"
   ]
  },
  {
   "cell_type": "markdown",
   "metadata": {},
   "source": [
    "## Training ensemble model"
   ]
  },
  {
   "cell_type": "code",
   "execution_count": 19,
   "metadata": {},
   "outputs": [
    {
     "name": "stdout",
     "output_type": "stream",
     "text": [
      "Reloaded Study Best Params: {'svm_c': 9.96412445958313, 'svm_kernel': 'linear', 'svm_gamma': 0.0002067102119783412, 'rf_n_estimators': 300, 'rf_max_depth': 41, 'rf_max_features': 'log2', 'rf_min_samples_split': 7, 'rf_min_samples_leaf': 3, 'rf_max_leaf_nodes': 276, 'rf_max_samples': 0.30852097374093923, 'lr_c': 2.915193736936337}\n",
      "\n",
      "#@title Train Data\n",
      "Train Set Accuracy: 99.84%\n",
      "\n",
      "Classification Report on Train Set:\n",
      "\n",
      "                      precision    recall  f1-score   support\n",
      "\n",
      "                 art       1.00      0.99      1.00       306\n",
      "       entertainment       1.00      1.00      1.00       517\n",
      "             fashion       1.00      1.00      1.00       478\n",
      "                food       1.00      1.00      1.00       817\n",
      "              gaming       1.00      1.00      1.00        21\n",
      "health and lifestyle       0.99      1.00      1.00       803\n",
      "    mom and children       1.00      1.00      1.00       238\n",
      "              sports       1.00      1.00      1.00       181\n",
      "                tech       1.00      1.00      1.00       554\n",
      "              travel       1.00      1.00      1.00       470\n",
      "\n",
      "            accuracy                           1.00      4385\n",
      "           macro avg       1.00      1.00      1.00      4385\n",
      "        weighted avg       1.00      1.00      1.00      4385\n",
      "\n",
      "\n",
      "#@title Test Data\n",
      "Test Set Accuracy: 91.34%\n",
      "\n",
      "Classification Report on Test Set:\n",
      "\n",
      "                      precision    recall  f1-score   support\n",
      "\n",
      "                 art       0.92      0.86      0.88        76\n",
      "       entertainment       0.94      0.78      0.86       129\n",
      "             fashion       0.92      0.88      0.90       120\n",
      "                food       0.96      0.98      0.97       205\n",
      "              gaming       1.00      1.00      1.00         5\n",
      "health and lifestyle       0.83      0.95      0.89       201\n",
      "    mom and children       0.96      0.80      0.87        60\n",
      "              sports       1.00      0.91      0.95        45\n",
      "                tech       0.91      0.97      0.94       138\n",
      "              travel       0.90      0.94      0.92       118\n",
      "\n",
      "            accuracy                           0.91      1097\n",
      "           macro avg       0.93      0.91      0.92      1097\n",
      "        weighted avg       0.92      0.91      0.91      1097\n",
      "\n"
     ]
    },
    {
     "data": {
      "image/png": "[encoded data removed]",
      "text/plain": [
       "<Figure size 1000x800 with 2 Axes>"
      ]
     },
     "metadata": {},
     "output_type": "display_data"
    }
   ],
   "source": [
    "import optuna\n",
    "\n",
    "storage_url = \"sqlite:///optuna_study.db\" \n",
    "\n",
    "# Load the study \n",
    "loaded_study = optuna.load_study(study_name=\"class2\", storage=storage_url)\n",
    "best_params = loaded_study.best_params\n",
    "\n",
    "svm_model = SVC(C=best_params['svm_c'], \n",
    "                kernel=best_params['svm_kernel'], \n",
    "                gamma=best_params['svm_gamma'], \n",
    "                probability=True, \n",
    "                random_state=42,\n",
    "                cache_size=4096,\n",
    "                class_weight='balanced')\n",
    "\n",
    "rf_model = RandomForestClassifier(n_estimators=best_params['rf_n_estimators'], \n",
    "                                   max_depth=best_params['rf_max_depth'], \n",
    "                                   max_features=best_params['rf_max_features'],\n",
    "                                   min_samples_leaf=best_params['rf_min_samples_leaf'],\n",
    "                                   min_samples_split=best_params['rf_min_samples_split'],\n",
    "                                   max_leaf_nodes=best_params['rf_max_leaf_nodes'],\n",
    "                                   max_samples=best_params['rf_max_samples'],\n",
    "                                   n_jobs=8, \n",
    "                                   random_state=42,\n",
    "                                   class_weight='balanced')\n",
    "\n",
    "\n",
    "lr_model = LogisticRegression(C=best_params['lr_c'], \n",
    "                              max_iter=1000, \n",
    "                              n_jobs=8,\n",
    "                              random_state=42,\n",
    "                              class_weight='balanced')\n",
    "\n",
    "ensemble_model = VotingClassifier(\n",
    "    estimators=[('svm', svm_model), \n",
    "                ('rf', rf_model), \n",
    "                ('lr', lr_model)],\n",
    "    voting='soft',\n",
    "    n_jobs=8\n",
    ")\n",
    "\n",
    "# Train the final model on the training dataset\n",
    "ensemble_model.fit(x_train, y_train)\n",
    "\n",
    "# Evaluate on training set\n",
    "y_train_pred = ensemble_model.predict(x_train)\n",
    "train_accuracy = accuracy_score(y_train, y_train_pred)\n",
    "print(\"\\n#@title Train Data\")\n",
    "print(\"Train Set Accuracy: {:.2f}%\".format(train_accuracy * 100))\n",
    "print(\"\\nClassification Report on Train Set:\\n\")\n",
    "print(classification_report(y_train, y_train_pred))\n",
    "\n",
    "# Evaluate on test set\n",
    "y_test_pred = ensemble_model.predict(x_val)\n",
    "test_accuracy = accuracy_score(y_val, y_test_pred)\n",
    "print(\"\\n#@title Test Data\")\n",
    "print(\"Test Set Accuracy: {:.2f}%\".format(test_accuracy * 100))\n",
    "print(\"\\nClassification Report on Test Set:\\n\")\n",
    "print(classification_report(y_val, y_test_pred))\n",
    "\n",
    "# Plot confusion matrix\n",
    "cm = confusion_matrix(y_val, y_test_pred)\n",
    "plt.figure(figsize=(10, 8))\n",
    "sns.heatmap(cm, annot=True, fmt='d', cmap='Blues', xticklabels=set(y_val), yticklabels=set(y_val))\n",
    "plt.title('Confusion Matrix')\n",
    "plt.xlabel('True Labels')\n",
    "plt.ylabel('Predicted Labels')\n",
    "plt.show()"
   ]
  },
  {
   "cell_type": "markdown",
   "metadata": {},
   "source": [
    "## Getting Output"
   ]
  },
  {
   "cell_type": "code",
   "execution_count": null,
   "metadata": {},
   "outputs": [],
   "source": [
    "x_train = pd.DataFrame(x_train)\n",
    "x_val = pd.DataFrame(x_val)\n",
    "\n",
    "X_train_val = pd.concat([x_train, x_val])\n",
    "y_train_val = pd.concat([y_train, y_val])\n",
    "\n",
    "# Load the study \n",
    "loaded_study = optuna.load_study(study_name=\"class2\", storage=storage_url)\n",
    "best_params = loaded_study.best_params\n",
    "\n",
    "svm_model = SVC(C=best_params['svm_c'], \n",
    "                kernel=best_params['svm_kernel'], \n",
    "                gamma=best_params['svm_gamma'], \n",
    "                probability=True, \n",
    "                random_state=42,\n",
    "                cache_size=4096,\n",
    "                class_weight='balanced')\n",
    "\n",
    "rf_model = RandomForestClassifier(n_estimators=best_params['rf_n_estimators'], \n",
    "                                   max_depth=best_params['rf_max_depth'], \n",
    "                                   max_features=best_params['rf_max_features'],\n",
    "                                   min_samples_leaf=best_params['rf_min_samples_leaf'],\n",
    "                                   min_samples_split=best_params['rf_min_samples_split'],\n",
    "                                   max_leaf_nodes=best_params['rf_max_leaf_nodes'],\n",
    "                                   max_samples=best_params['rf_max_samples'],\n",
    "                                   n_jobs=-1, \n",
    "                                   random_state=42,\n",
    "                                   class_weight='balanced')\n",
    "\n",
    "\n",
    "lr_model = LogisticRegression(C=best_params['lr_c'], \n",
    "                              max_iter=1000, \n",
    "                              n_jobs=-1,\n",
    "                              random_state=42,\n",
    "                              class_weight='balanced')\n",
    "\n",
    "ensemble_model = VotingClassifier(\n",
    "    estimators=[('svm', svm_model), \n",
    "                ('rf', rf_model), \n",
    "                ('lr', lr_model)],\n",
    "    voting='soft',\n",
    "    n_jobs=-1\n",
    ")\n",
    "\n",
    "ensemble_model.fit(X_train_val, y_train_val)"
   ]
  },
  {
   "cell_type": "code",
   "execution_count": null,
   "metadata": {},
   "outputs": [
    {
     "name": "stderr",
     "output_type": "stream",
     "text": [
      "'head' is not recognized as an internal or external command,\n",
      "operable program or batch file.\n"
     ]
    },
    {
     "name": "stdout",
     "output_type": "stream",
     "text": [
      "*****\n",
      "File saved to prediction-classification-round2.json\n"
     ]
    }
   ],
   "source": [
    "test_data_path = \"released_dataset/test-classification-round3.dat\"\n",
    "\n",
    "test_unames = []\n",
    "with open(test_data_path, \"rt\") as fh:\n",
    "  for line in fh:\n",
    "    test_unames.append(line.strip())\n",
    "\n",
    "x_test = []\n",
    "\n",
    "for uname in test_unames:\n",
    "  try:\n",
    "    index = test_usernames.index(uname)\n",
    "    x_test.append(x_post_test[index].toarray()[0])\n",
    "  except Exception as e:\n",
    "    try:\n",
    "      index = train_usernames.index(uname)\n",
    "      x_test.append(x_post_train[index].toarray()[0])\n",
    "    except Exception as e:\n",
    "      print(uname)\n",
    "\n",
    "df_test = pd.DataFrame(np.array(x_test), columns=feature_names)\n",
    "test_pred = ensemble_model.predict(df_test)\n",
    "\n",
    "output = dict()\n",
    "for index, uname in enumerate(test_unames):\n",
    "  output[uname] = test_pred[index]\n",
    "output_file_path = \"prediction-classification-round3.json\"\n",
    "with open(output_file_path, \"w\") as of:\n",
    "    json.dump(output, of, indent=4)\n",
    "print(f\"File saved to {output_file_path}\")"
   ]
  }
 ],
 "metadata": {
  "kernelspec": {
   "display_name": "venv",
   "language": "python",
   "name": "python3"
  },
  "language_info": {
   "codemirror_mode": {
    "name": "ipython",
    "version": 3
   },
   "file_extension": ".py",
   "mimetype": "text/x-python",
   "name": "python",
   "nbconvert_exporter": "python",
   "pygments_lexer": "ipython3",
   "version": "3.8.0"
  }
 },
 "nbformat": 4,
 "nbformat_minor": 2
}
